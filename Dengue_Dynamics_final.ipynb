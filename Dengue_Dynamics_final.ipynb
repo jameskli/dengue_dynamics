{
  "nbformat": 4,
  "nbformat_minor": 0,
  "metadata": {
    "colab": {
      "name": "Dengue Dynamics - final.ipynb",
      "provenance": [],
      "collapsed_sections": [
        "0zpuadbJHmrx",
        "k84Oi9-7tbr_",
        "Ye709iaCtfjf",
        "Nr3foMn78kvz",
        "Zti0nomoIM8c",
        "9sMoxIofH7sa",
        "ao8_ry3yHxrb",
        "Zxn8W_Jyu_x8",
        "ul1W9iqW3Q-Q",
        "2TzuExwrJ6nz",
        "tMsnQrEFLvHF",
        "JzYIlHwSulAW",
        "fA7pbpaKsjtN",
        "q6GCbY1nroNR",
        "klaUCz6hDfir",
        "8OWqNYzDJeB5"
      ],
      "include_colab_link": true
    },
    "kernelspec": {
      "name": "python3",
      "display_name": "Python 3"
    }
  },
  "cells": [
    {
      "cell_type": "markdown",
      "metadata": {
        "id": "view-in-github",
        "colab_type": "text"
      },
      "source": [
        "<a href=\"https://colab.research.google.com/github/jameskli/dengue_dynamics/blob/main/Dengue_Dynamics_final.ipynb\" target=\"_parent\"><img src=\"https://colab.research.google.com/assets/colab-badge.svg\" alt=\"Open In Colab\"/></a>"
      ]
    },
    {
      "cell_type": "markdown",
      "metadata": {
        "id": "bHwYQbDuu7Ue"
      },
      "source": [
        "# Imports"
      ]
    },
    {
      "cell_type": "code",
      "metadata": {
        "id": "-Jsm9sypQFNZ",
        "colab": {
          "base_uri": "https://localhost:8080/",
          "height": 53
        },
        "outputId": "a1ae82a9-9e26-45c5-eb2b-41e1bb706f86"
      },
      "source": [
        "# IMPORTS \n",
        "# File I/O Imports\n",
        "from google.colab import auth\n",
        "import gspread\n",
        "from oauth2client.client import GoogleCredentials\n",
        "import gspread_dataframe as gd\n",
        "\n",
        "# Data Analyis, Visualization Imports\n",
        "import numpy as np\n",
        "import pandas as pd\n",
        "import random\n",
        "from IPython.display import display\n",
        "import seaborn as sns\n",
        "import matplotlib.pyplot as plt\n",
        "%matplotlib inline\n",
        "\n",
        "# Sklearn\n",
        "from sklearn.cluster import KMeans\n",
        "from sklearn.compose import ColumnTransformer\n",
        "from sklearn.linear_model import LinearRegression\n",
        "from sklearn.metrics import mean_absolute_error\n",
        "from sklearn.model_selection import train_test_split\n",
        "from sklearn.model_selection import cross_val_score\n",
        "from sklearn.model_selection import GridSearchCV\n",
        "from sklearn.model_selection import RandomizedSearchCV\n",
        "from sklearn.pipeline import Pipeline\n",
        "from sklearn.preprocessing import OneHotEncoder\n",
        "from sklearn.preprocessing import StandardScaler\n",
        "from sklearn.svm import LinearSVR\n",
        "from sklearn.svm import SVR\n",
        "from sklearn.tree import DecisionTreeRegressor\n",
        "from sklearn.ensemble import RandomForestRegressor\n"
      ],
      "execution_count": null,
      "outputs": [
        {
          "output_type": "stream",
          "text": [
            "/usr/local/lib/python3.6/dist-packages/statsmodels/tools/_testing.py:19: FutureWarning: pandas.util.testing is deprecated. Use the functions in the public API at pandas.testing instead.\n",
            "  import pandas.util.testing as tm\n"
          ],
          "name": "stderr"
        }
      ]
    },
    {
      "cell_type": "markdown",
      "metadata": {
        "id": "aaqVQSb3QMLS"
      },
      "source": [
        "# CONSTANTS"
      ]
    },
    {
      "cell_type": "markdown",
      "metadata": {
        "id": "xSzwu51WVhpK"
      },
      "source": [
        "## User-run constants\n",
        "* Set these constants before running"
      ]
    },
    {
      "cell_type": "code",
      "metadata": {
        "id": "NKMzX50LVfz0"
      },
      "source": [
        "# UNIVERSAL PARAMETERS\n",
        "TEST_SIZE = 0.25\n",
        "CROSS_VAL_FOLDS = 5\n",
        "RANDOM_STATE = 42\n",
        "\n",
        "# FEATURE IMPORTANCE (will drop features, and re-run analysis on dataset)\n",
        "USE_FEATURE_IMPORTANCE = False\n",
        "\n",
        "# Uses previous case's label as a feature (which means it cant generate competition output)\n",
        "# So leave this False unless you really want to use it.\n",
        "USE_PREV_CASES = False\n",
        "\n",
        "# COMPETITION RESULT OUTPUT \n",
        "COMPETITION_RESULTS_OUTPUT_NAME = \"competition-results\"\n",
        "EXPORT_RESULT_TO_GSHEET = False\n"
      ],
      "execution_count": null,
      "outputs": []
    },
    {
      "cell_type": "markdown",
      "metadata": {
        "id": "llopeDy_VpnL"
      },
      "source": [
        "## Data Scientist-defined Constants\n",
        "* Mostly for reference only"
      ]
    },
    {
      "cell_type": "code",
      "metadata": {
        "id": "1_o8AT9DQNXs"
      },
      "source": [
        "# FEATURE KEYS\n",
        "ORIG_FEATURE_KEYS = ['city', 'year', 'weekofyear', 'week_start_date', 'ndvi_ne',\n",
        "                     'ndvi_nw','ndvi_se', 'ndvi_sw', 'precipitation_amt_mm',\n",
        "                     'reanalysis_air_temp_k','reanalysis_avg_temp_k',\n",
        "                     'reanalysis_dew_point_temp_k','reanalysis_max_air_temp_k',\n",
        "                     'reanalysis_min_air_temp_k',\n",
        "                     'reanalysis_precip_amt_kg_per_m2',\n",
        "                     'reanalysis_relative_humidity_percent',\n",
        "                     'reanalysis_sat_precip_amt_mm',\n",
        "                     'reanalysis_specific_humidity_g_per_kg',\n",
        "                     'reanalysis_tdtr_k','station_avg_temp_c',\n",
        "                     'station_diur_temp_rng_c',\n",
        "                     'station_max_temp_c','station_min_temp_c',\n",
        "                     'station_precip_mm']\n",
        "NUMERIC_FEATURE_KEYS = ['year', 'weekofyear', 'ndvi_ne', 'ndvi_nw',\n",
        "                        'ndvi_se', 'ndvi_sw', 'precipitation_amt_mm',\n",
        "                        'reanalysis_air_temp_k', 'reanalysis_avg_temp_k',\n",
        "                        'reanalysis_dew_point_temp_k',\n",
        "                        'reanalysis_max_air_temp_k',\n",
        "                        'reanalysis_min_air_temp_k',\n",
        "                        'reanalysis_precip_amt_kg_per_m2',\n",
        "                        'reanalysis_relative_humidity_percent',\n",
        "                        'reanalysis_sat_precip_amt_mm',\n",
        "                        'reanalysis_specific_humidity_g_per_kg',\n",
        "                        'reanalysis_tdtr_k', 'station_avg_temp_c',\n",
        "                        'station_diur_temp_rng_c', 'station_max_temp_c',\n",
        "                        'station_min_temp_c', 'station_precip_mm']\n",
        "TIME_FEATURE_KEYS = ['week_start_date']\n",
        "DROP_FEATURE_KEYS = ['precipitation_amt_mm', 'reanalysis_air_temp_k',\n",
        "       'station_avg_temp_c', 'station_diur_temp_rng_c', 'station_max_temp_c',\n",
        "       'station_min_temp_c', 'station_precip_mm']\n",
        "CATEGORY_KEYS = ['city']\n",
        "\n",
        "# added new feature, also week of year is now a category\n",
        "PIPELINE_CATEGORY_KEYS = ['city', 'weekofyear', 'yearofdecade']  # if treating week and year as categories\n",
        "\n",
        "PIPELINE_CATEGORY_KEYS_RF = ['city'] \n",
        "PIPELINE_NUMERIC_KEYS = ['reanalysis_avg_temp_k',\n",
        "                        'reanalysis_dew_point_temp_k',\n",
        "                        'reanalysis_max_air_temp_k',\n",
        "                        'reanalysis_min_air_temp_k',\n",
        "                        'reanalysis_precip_amt_kg_per_m2',\n",
        "                        'reanalysis_relative_humidity_percent',\n",
        "                        'reanalysis_sat_precip_amt_mm',\n",
        "                        'reanalysis_specific_humidity_g_per_kg',\n",
        "                        'reanalysis_tdtr_k']\n",
        "PIPELINE_NUMERIC_KEYS_RF = []\n",
        "\n",
        "# ndvi_xxx are already scaled to [-1.0,1.0], so excluding from pipeline\n",
        "PIPELINE_PASSTHRU_KEYS = ['ndvi_ne', 'ndvi_nw','ndvi_se', 'ndvi_sw']\n",
        "\n",
        "# if using RF, none of the numerical values need scaling, so passthru.\n",
        "PIPELINE_PASSTHRU_KEYS_RF = ['reanalysis_avg_temp_k',\n",
        "                        'reanalysis_dew_point_temp_k',\n",
        "                        'reanalysis_max_air_temp_k',\n",
        "                        'reanalysis_min_air_temp_k',\n",
        "                        'reanalysis_precip_amt_kg_per_m2',\n",
        "                        'reanalysis_relative_humidity_percent',\n",
        "                        'reanalysis_sat_precip_amt_mm',\n",
        "                        'reanalysis_specific_humidity_g_per_kg',\n",
        "                        'reanalysis_tdtr_k', 'cos_weekofyear', 'cos_yearofdecade','ndvi_ne', 'ndvi_nw','ndvi_se', 'ndvi_sw']\n",
        "PIPELINE_DROP_KEYS = ['year','week_start_date',  'weekofyear', 'yearofdecade']  #FOR REFERENCE ONLY, PIPELINE IMPLICITLY DROPS THESE\n",
        "\n",
        "# LABEL KEYS\n",
        "ORIG_LABEL_KEYS = ['city', 'year', 'weekofyear', 'total_cases'] \n",
        "NUMERIC_LABEL_KEYS = ['year','weekofyear','total_cases']\n",
        "DROP_LABEL_KEYS = ['city', 'year','weekofyear']\n"
      ],
      "execution_count": null,
      "outputs": []
    },
    {
      "cell_type": "markdown",
      "metadata": {
        "id": "OoyPAn15Hj20"
      },
      "source": [
        "# Helper Functions"
      ]
    },
    {
      "cell_type": "markdown",
      "metadata": {
        "id": "0zpuadbJHmrx"
      },
      "source": [
        "## Basic Cleaning Data"
      ]
    },
    {
      "cell_type": "code",
      "metadata": {
        "id": "NQv7nuBiHqTh"
      },
      "source": [
        "def clean_data(input_df, drop_keys=[], numeric_keys=[], cat_keys=[], time_keys=[]):\n",
        "  \"\"\" takes a DF, drops drop_key columns, converts \n",
        "  numereric, time, and category keys appropriately\n",
        "  categorical not yet implemented \"\"\"\n",
        "\n",
        "  new_df = input_df.copy()\n",
        "  \n",
        "  # Drop keys\n",
        "  drop_key_list = intersection(new_df.keys(), drop_keys)\n",
        "  new_df = new_df.drop(columns=drop_key_list)\n",
        "\n",
        "  curr_key_list = new_df.keys()\n",
        "\n",
        "  # Convert to numeric and time\n",
        "  numeric_key_list = intersection(curr_key_list, numeric_keys)\n",
        "  new_df[numeric_key_list] = new_df[numeric_key_list].apply(pd.to_numeric)\n",
        "\n",
        "  time_key_list = intersection(curr_key_list, time_keys)\n",
        "  new_df[time_key_list] = new_df[time_key_list].apply(pd.to_datetime)\n",
        "  \n",
        "  # Insert category processing --- placeholder, no processing performed\n",
        "  cat_key_list = intersection(curr_key_list, cat_keys)\n",
        "  \n",
        "  return new_df\n",
        "\n",
        "def intersection(lst1, lst2): \n",
        "  \"\"\" helper function only for clean_data\n",
        "  Returns the intersection of two lists\n",
        "  \"\"\"\n",
        "  return list(set(lst1) & set(lst2)) \n",
        "\n",
        "def clean_training_data(input_df, drop_keys=[], numeric_keys=[], cat_keys=[], time_keys=[]):\n",
        "  \"\"\" Performs clean_data generally, but also imputes empty cells\n",
        "  The cities were separated because imputing data using neighbouring rows does not make sense if not for the same city.\n",
        "  \"\"\"\n",
        "  # First generically clean by dropping unneeded keys, converting numeric, time values etc\n",
        "  raw_X = clean_data(input_df, drop_keys=drop_keys, numeric_keys=numeric_keys, cat_keys=cat_keys, time_keys=time_keys)\n",
        "\n",
        "  # Separate out sj and iq first, then perform imputing, so that it doesnt accidentally use the other city's data for linear interpolation\n",
        "  X_sj = clean_data(raw_X.loc[raw_X['city'] == 'sj'])\n",
        "  X_sj = impute_empty_cells(X_sj) \n",
        "\n",
        "  X_iq = clean_data(raw_X.loc[raw_X['city'] == 'iq'])\n",
        "  X_iq = impute_empty_cells(X_iq) \n",
        "\n",
        "  # final X to be used for further analysis\n",
        "  basic_X = X_sj.append(X_iq)\n",
        "  return basic_X"
      ],
      "execution_count": null,
      "outputs": []
    },
    {
      "cell_type": "code",
      "metadata": {
        "id": "eaIoC-IkHs8u"
      },
      "source": [
        "def impute_empty_cells(input_df):\n",
        "  \"\"\" Given a 1-column dataframe, fills the nulls or zeros with values that are linearly interpolated from adjacent rows\n",
        "  Returns a 1-col dataframe.\n",
        "  \"\"\"\n",
        "  out_df = input_df.copy()\n",
        "  for column in input_df:\n",
        "    # indices in the column which hard zeroes or NaN\n",
        "    null_or_zero_indices = return_empty_cells_in_1d_array(input_df[column], missing_vals=[0])\n",
        "    \n",
        "    for index in null_or_zero_indices:\n",
        "      min_index = input_df[column].index.values[0]\n",
        "      max_index = input_df[column].index.values[len(input_df[column])-1]\n",
        "      imputing_indices = return_indices_for_interpolation(index, min_index, max_index, null_or_zero_indices)\n",
        "      \n",
        "      imputed_value  = simple_linear_interpolation(input_df[column], index, imputing_indices)\n",
        "      \n",
        "      out_df.at[index,column] = imputed_value\n",
        "      \n",
        "  return out_df\n",
        "\n",
        "\n",
        "def simple_linear_interpolation(input_df, index, imputing_indices):\n",
        "  \"\"\"Returns the y-value of a linear fit, given a 1-column df, the index of \n",
        "  the missing value and the indices of the known values to be used for the \n",
        "  linear fit\n",
        "  \"\"\"\n",
        "  model = LinearRegression()\n",
        "  \n",
        "  X = np.asarray(imputing_indices).reshape(len(imputing_indices),1)\n",
        "  y = input_df[imputing_indices].to_numpy().reshape(len(imputing_indices),1)\n",
        "\n",
        "  model.fit(X, y)\n",
        "  \n",
        "  x_new = np.asarray(int(index)).reshape(1,1)\n",
        "  y_new = model.predict(x_new)\n",
        "\n",
        "  return y_new[0][0]\n",
        "\n",
        "def return_empty_cells_in_1d_array(input_df, missing_vals=[]):\n",
        "  \"\"\" given a 1-column df, return a list of the indices that are isna()\n",
        "  can also optionally give a list of other missing values to search for\n",
        "  eg: missing_vals =[0]\n",
        "    \"\"\"\n",
        "  column_array = input_df\n",
        "  missing_val_bool = column_array.isna()\n",
        "  for val in missing_vals:\n",
        "    missing_val_bool = missing_val_bool | (column_array == val)\n",
        "  \n",
        "  null_or_zero_indices = column_array[missing_val_bool].index.tolist() \n",
        "  return null_or_zero_indices\n",
        "\n",
        "def return_indices_for_interpolation(index, min_index, max_index, null_or_zero_indices, values_to_interpolate=2):\n",
        "  \"\"\" for a specific index of a specific missing value, the max and min search index, \n",
        "  and a list of the other indices of missing values, \n",
        "  return a list of indices which will be used for interpolation\n",
        "  Can also set the # of values before and after to use in interpolation \n",
        "  eg values_to_interpolate=2  means 2 weeks before and 2 weeks after\n",
        "  \"\"\"\n",
        "\n",
        "  index_list = []\n",
        "  values_needed_left = 1\n",
        "  values_needed_right = 1\n",
        "  curr_index = index\n",
        "  \n",
        "  while (values_needed_left<= values_to_interpolate) and (curr_index >= min_index):\n",
        "    if curr_index not in null_or_zero_indices:\n",
        "      index_list.append(curr_index)\n",
        "      values_needed_left +=1\n",
        "    curr_index-=1\n",
        "  curr_index = index\n",
        "  while (values_needed_right<= values_to_interpolate) and (curr_index <= max_index):\n",
        "    if curr_index not in null_or_zero_indices:\n",
        "      index_list.append(curr_index)\n",
        "      values_needed_right +=1\n",
        "    curr_index+=1\n",
        "  return index_list"
      ],
      "execution_count": null,
      "outputs": []
    },
    {
      "cell_type": "markdown",
      "metadata": {
        "id": "k84Oi9-7tbr_"
      },
      "source": [
        "## Custom Features"
      ]
    },
    {
      "cell_type": "markdown",
      "metadata": {
        "id": "Ye709iaCtfjf"
      },
      "source": [
        "### Year of Decade Periodicity"
      ]
    },
    {
      "cell_type": "code",
      "metadata": {
        "id": "HgZfI0B4ti84"
      },
      "source": [
        "def output_yearofdecade(input_df):\n",
        "  \"\"\" outputs year of decade, analogous to week of year\n",
        "  requires the true year of the Monday of the given week\n",
        "  first calculates the true year based on a Monday week start date \n",
        "  (handles end of year, eg week 52, 53 edge cases)\n",
        "  \"\"\"\n",
        "  true_year = (input_df - pd.to_timedelta(input_df.dt.weekday, unit='D')).dt.year\n",
        "  yearofdecade = true_year.mod(10).astype(int)\n",
        "  return yearofdecade"
      ],
      "execution_count": null,
      "outputs": []
    },
    {
      "cell_type": "markdown",
      "metadata": {
        "id": "Nr3foMn78kvz"
      },
      "source": [
        "## Pipeline"
      ]
    },
    {
      "cell_type": "code",
      "metadata": {
        "id": "5X9Q9jNz8qQk"
      },
      "source": [
        "def get_column_names_from_ColumnTransformer(column_transformer):\n",
        "  \"\"\" Gets column names from Transformer.\n",
        "  \"\"\" \n",
        "  col_name = []\n",
        "  for transformer_in_columns in column_transformer.transformers_[:-1]:#the last transformer is ColumnTransformer's 'remainder' which we ignore, since those are dropped.\n",
        "      raw_col_name = transformer_in_columns[2]\n",
        "      if isinstance(transformer_in_columns[1],Pipeline): \n",
        "          transformer = transformer_in_columns[1].steps[-1][1]\n",
        "      else:\n",
        "          transformer = transformer_in_columns[1]\n",
        "      try:\n",
        "          names = transformer.get_feature_names()\n",
        "      except AttributeError: # if no 'get_feature_names' function, use raw column name\n",
        "          names = raw_col_name\n",
        "      if isinstance(names,np.ndarray): \n",
        "          col_name += names.tolist()\n",
        "      elif isinstance(names,list):\n",
        "          col_name += names\n",
        "      elif isinstance(names,str):\n",
        "          col_name.append(names)\n",
        "  return col_name"
      ],
      "execution_count": null,
      "outputs": []
    },
    {
      "cell_type": "markdown",
      "metadata": {
        "id": "Zti0nomoIM8c"
      },
      "source": [
        "## Feature Importances"
      ]
    },
    {
      "cell_type": "code",
      "metadata": {
        "id": "IPQqSzv_ISp9"
      },
      "source": [
        "def show_feature_importance(X,y,params_dict=None,most_important_n=-1, print_all=False):\n",
        "  \"\"\" quick way to print out feature importances, using the RandomForest Regressor\n",
        "  Can feed in a params_dict.\n",
        "  \"\"\"\n",
        "  model = RandomForestRegressor()\n",
        "  if params_dict is not None:\n",
        "    model.set_params(**params_dict)\n",
        "  model.fit(X,y)\n",
        "  importances = list(zip(list(X), model.feature_importances_))\n",
        "  sorted_importances = sorted(importances, key = lambda x: x[1]) \n",
        "  sorted_importances.reverse()\n",
        "  sorted_importances_df = pd.DataFrame(sorted_importances, columns=[\"Feature\",\"Importance\"])\n",
        "  sorted_importances_df.index+=1\n",
        "  sorted_importances_df[\"Cumulative Importance\"] = sorted_importances_df[\"Importance\"].cumsum()\n",
        "  if print_all or most_important_n > sorted_importances_df.shape[0]:\n",
        "    with pd.option_context(\"display.max_rows\", 1000):\n",
        "      display(sorted_importances_df)\n",
        "  else:\n",
        "    with pd.option_context(\"display.max_rows\", 1000):\n",
        "      display(sorted_importances_df.head(most_important_n))\n",
        "\n",
        "  feature_list, _ = zip(*sorted_importances)\n",
        "  if most_important_n == -1 or most_important_n > len(feature_list):\n",
        "    return list(feature_list)\n",
        "  else:\n",
        "    return list(feature_list[:most_important_n])"
      ],
      "execution_count": null,
      "outputs": []
    },
    {
      "cell_type": "markdown",
      "metadata": {
        "id": "NxMRFlAmIQ1q"
      },
      "source": [
        "## Model Fittings"
      ]
    },
    {
      "cell_type": "code",
      "metadata": {
        "id": "tlJOctAJmLJJ"
      },
      "source": [
        "def predictions_and_mae(estimator, X, y_true):\n",
        "  \"\"\"Returns the y-predictions and the mean absolute error, given estimator and X,y values\n",
        "  Note that the y-predictions actually have to be converted to int afterwards for the competition but is not done here.\n",
        "  \"\"\"\n",
        "\n",
        "  y_pred = estimator.predict(X)\n",
        "  return y_pred, mean_absolute_error(y_true, y_pred)"
      ],
      "execution_count": null,
      "outputs": []
    },
    {
      "cell_type": "markdown",
      "metadata": {
        "id": "ao8_ry3yHxrb"
      },
      "source": [
        "## Gsheet I/O"
      ]
    },
    {
      "cell_type": "code",
      "metadata": {
        "id": "7-YDoZPALeE2"
      },
      "source": [
        "def create_df_from_gsheet(gsheet):\n",
        "  \"\"\" import data from gsheet, re-label columns, and remove label-row\"\"\"\n",
        "  output_df = pd.DataFrame(gsheet.get_all_values())\n",
        "  output_df.columns = output_df.iloc[0]\n",
        "  output_df = output_df.iloc[1:]\n",
        "  return output_df"
      ],
      "execution_count": null,
      "outputs": []
    },
    {
      "cell_type": "code",
      "metadata": {
        "id": "87GbMJEjH2pQ"
      },
      "source": [
        "def write_df_to_gsheet(sheet_name, input_df):\n",
        "  \"\"\" write dataframe to gsheet, note that this writes to Gdrive's root folder and not to current path\"\"\"\n",
        "  sh = gc.create(sheet_name)\n",
        "  gd.set_with_dataframe(sh.sheet1, input_df)"
      ],
      "execution_count": null,
      "outputs": []
    },
    {
      "cell_type": "markdown",
      "metadata": {
        "id": "oe6eGeSJvQ1s"
      },
      "source": [
        "# Preparatory Steps"
      ]
    },
    {
      "cell_type": "markdown",
      "metadata": {
        "id": "Zxn8W_Jyu_x8"
      },
      "source": [
        "## Import Data from Google Docs CSV Files --- enter Google auth code here!\n",
        "* Input: \n",
        "  * Respective google sheets (assuming it's in the same path as this colab file)\n",
        "* Actions: Convert to dataframes\n",
        "* Output: Dataframes directly from the google sheets are called:\n",
        " * features_train_df\n",
        " * labels_train_df\n",
        " * features_competition_df\n",
        " * labels_competition_df"
      ]
    },
    {
      "cell_type": "code",
      "metadata": {
        "id": "4DtDfzvKOz6a"
      },
      "source": [
        "# Obtain data from Google Sheet\n",
        "\n",
        "auth.authenticate_user()\n",
        "gc = gspread.authorize(GoogleCredentials.get_application_default())\n",
        "\n",
        "features_train_gsheet = gc.open('dengue_features_train').sheet1\n",
        "labels_train_gsheet = gc.open('dengue_labels_train').sheet1\n",
        "features_competition_gsheet = gc.open('dengue_features_test').sheet1\n",
        "labels_competition_gsheet = gc.open('submission_format').sheet1\n",
        "\n",
        "# Convert Google Sheet tabular data to df's\n",
        "features_train_df = create_df_from_gsheet(features_train_gsheet)\n",
        "labels_train_df = create_df_from_gsheet(labels_train_gsheet)\n",
        "features_competition_df = create_df_from_gsheet(features_competition_gsheet)\n",
        "labels_competition_df = create_df_from_gsheet(labels_competition_gsheet)\n"
      ],
      "execution_count": null,
      "outputs": []
    },
    {
      "cell_type": "markdown",
      "metadata": {
        "id": "-KkVmlBmAvnM"
      },
      "source": [
        "## Information about the Raw Data"
      ]
    },
    {
      "cell_type": "markdown",
      "metadata": {
        "id": "k6TgwaRJC91F"
      },
      "source": [
        "### Exploring with Pandas"
      ]
    },
    {
      "cell_type": "code",
      "metadata": {
        "id": "00o1Hj62AjKJ",
        "colab": {
          "base_uri": "https://localhost:8080/",
          "height": 575
        },
        "outputId": "49f2cb1e-677c-4e68-f90b-3ceeed271ef9"
      },
      "source": [
        "features_train_df.info()"
      ],
      "execution_count": null,
      "outputs": [
        {
          "output_type": "stream",
          "text": [
            "<class 'pandas.core.frame.DataFrame'>\n",
            "RangeIndex: 1456 entries, 1 to 1456\n",
            "Data columns (total 24 columns):\n",
            " #   Column                                 Non-Null Count  Dtype \n",
            "---  ------                                 --------------  ----- \n",
            " 0   city                                   1456 non-null   object\n",
            " 1   year                                   1456 non-null   object\n",
            " 2   weekofyear                             1456 non-null   object\n",
            " 3   week_start_date                        1456 non-null   object\n",
            " 4   ndvi_ne                                1456 non-null   object\n",
            " 5   ndvi_nw                                1456 non-null   object\n",
            " 6   ndvi_se                                1456 non-null   object\n",
            " 7   ndvi_sw                                1456 non-null   object\n",
            " 8   precipitation_amt_mm                   1456 non-null   object\n",
            " 9   reanalysis_air_temp_k                  1456 non-null   object\n",
            " 10  reanalysis_avg_temp_k                  1456 non-null   object\n",
            " 11  reanalysis_dew_point_temp_k            1456 non-null   object\n",
            " 12  reanalysis_max_air_temp_k              1456 non-null   object\n",
            " 13  reanalysis_min_air_temp_k              1456 non-null   object\n",
            " 14  reanalysis_precip_amt_kg_per_m2        1456 non-null   object\n",
            " 15  reanalysis_relative_humidity_percent   1456 non-null   object\n",
            " 16  reanalysis_sat_precip_amt_mm           1456 non-null   object\n",
            " 17  reanalysis_specific_humidity_g_per_kg  1456 non-null   object\n",
            " 18  reanalysis_tdtr_k                      1456 non-null   object\n",
            " 19  station_avg_temp_c                     1456 non-null   object\n",
            " 20  station_diur_temp_rng_c                1456 non-null   object\n",
            " 21  station_max_temp_c                     1456 non-null   object\n",
            " 22  station_min_temp_c                     1456 non-null   object\n",
            " 23  station_precip_mm                      1456 non-null   object\n",
            "dtypes: object(24)\n",
            "memory usage: 273.1+ KB\n"
          ],
          "name": "stdout"
        }
      ]
    },
    {
      "cell_type": "code",
      "metadata": {
        "id": "tTdNxJw1A3gI",
        "colab": {
          "base_uri": "https://localhost:8080/",
          "height": 224
        },
        "outputId": "32760a8d-0c91-470c-8320-2030b19b3713"
      },
      "source": [
        "features_train_df.sample(5)"
      ],
      "execution_count": null,
      "outputs": [
        {
          "output_type": "execute_result",
          "data": {
            "text/html": [
              "<div>\n",
              "<style scoped>\n",
              "    .dataframe tbody tr th:only-of-type {\n",
              "        vertical-align: middle;\n",
              "    }\n",
              "\n",
              "    .dataframe tbody tr th {\n",
              "        vertical-align: top;\n",
              "    }\n",
              "\n",
              "    .dataframe thead th {\n",
              "        text-align: right;\n",
              "    }\n",
              "</style>\n",
              "<table border=\"1\" class=\"dataframe\">\n",
              "  <thead>\n",
              "    <tr style=\"text-align: right;\">\n",
              "      <th></th>\n",
              "      <th>city</th>\n",
              "      <th>year</th>\n",
              "      <th>weekofyear</th>\n",
              "      <th>week_start_date</th>\n",
              "      <th>ndvi_ne</th>\n",
              "      <th>ndvi_nw</th>\n",
              "      <th>ndvi_se</th>\n",
              "      <th>ndvi_sw</th>\n",
              "      <th>precipitation_amt_mm</th>\n",
              "      <th>reanalysis_air_temp_k</th>\n",
              "      <th>reanalysis_avg_temp_k</th>\n",
              "      <th>reanalysis_dew_point_temp_k</th>\n",
              "      <th>reanalysis_max_air_temp_k</th>\n",
              "      <th>reanalysis_min_air_temp_k</th>\n",
              "      <th>reanalysis_precip_amt_kg_per_m2</th>\n",
              "      <th>reanalysis_relative_humidity_percent</th>\n",
              "      <th>reanalysis_sat_precip_amt_mm</th>\n",
              "      <th>reanalysis_specific_humidity_g_per_kg</th>\n",
              "      <th>reanalysis_tdtr_k</th>\n",
              "      <th>station_avg_temp_c</th>\n",
              "      <th>station_diur_temp_rng_c</th>\n",
              "      <th>station_max_temp_c</th>\n",
              "      <th>station_min_temp_c</th>\n",
              "      <th>station_precip_mm</th>\n",
              "    </tr>\n",
              "  </thead>\n",
              "  <tbody>\n",
              "    <tr>\n",
              "      <th>481</th>\n",
              "      <td>sj</td>\n",
              "      <td>1999</td>\n",
              "      <td>29</td>\n",
              "      <td>1999-07-23</td>\n",
              "      <td>0.1169</td>\n",
              "      <td>0.0494</td>\n",
              "      <td>0.2071143</td>\n",
              "      <td>0.1935286</td>\n",
              "      <td>96.36</td>\n",
              "      <td>299.85</td>\n",
              "      <td>299.8571429</td>\n",
              "      <td>296.8614286</td>\n",
              "      <td>301.9</td>\n",
              "      <td>298.5</td>\n",
              "      <td>66.52</td>\n",
              "      <td>83.91857143</td>\n",
              "      <td>96.36</td>\n",
              "      <td>18.32285714</td>\n",
              "      <td>2</td>\n",
              "      <td>26.7</td>\n",
              "      <td>5.471428571</td>\n",
              "      <td>31.1</td>\n",
              "      <td>21.7</td>\n",
              "      <td>56.2</td>\n",
              "    </tr>\n",
              "    <tr>\n",
              "      <th>270</th>\n",
              "      <td>sj</td>\n",
              "      <td>1995</td>\n",
              "      <td>26</td>\n",
              "      <td>1995-07-02</td>\n",
              "      <td>0.2319333</td>\n",
              "      <td>0.2115</td>\n",
              "      <td>0.2412286</td>\n",
              "      <td>0.2656857</td>\n",
              "      <td>2.04</td>\n",
              "      <td>300.68</td>\n",
              "      <td>300.8071429</td>\n",
              "      <td>296.7414286</td>\n",
              "      <td>302.7</td>\n",
              "      <td>298.7</td>\n",
              "      <td>13.7</td>\n",
              "      <td>79.38</td>\n",
              "      <td>2.04</td>\n",
              "      <td>18.20714286</td>\n",
              "      <td>2.757142857</td>\n",
              "      <td>29.21428571</td>\n",
              "      <td>6.342857143</td>\n",
              "      <td>33.9</td>\n",
              "      <td>24.4</td>\n",
              "      <td>15.8</td>\n",
              "    </tr>\n",
              "    <tr>\n",
              "      <th>561</th>\n",
              "      <td>sj</td>\n",
              "      <td>2001</td>\n",
              "      <td>6</td>\n",
              "      <td>2001-02-05</td>\n",
              "      <td></td>\n",
              "      <td>-0.0056</td>\n",
              "      <td>0.1645</td>\n",
              "      <td>0.1619714</td>\n",
              "      <td>10.73</td>\n",
              "      <td>297.8771429</td>\n",
              "      <td>297.9857143</td>\n",
              "      <td>292.9814286</td>\n",
              "      <td>299.7</td>\n",
              "      <td>296.1</td>\n",
              "      <td>11.2</td>\n",
              "      <td>74.34428571</td>\n",
              "      <td>10.73</td>\n",
              "      <td>14.40857143</td>\n",
              "      <td>2.114285714</td>\n",
              "      <td>25</td>\n",
              "      <td>6.828571429</td>\n",
              "      <td>29.4</td>\n",
              "      <td>21.1</td>\n",
              "      <td>8.5</td>\n",
              "    </tr>\n",
              "    <tr>\n",
              "      <th>427</th>\n",
              "      <td>sj</td>\n",
              "      <td>1998</td>\n",
              "      <td>28</td>\n",
              "      <td>1998-07-09</td>\n",
              "      <td>-0.03095</td>\n",
              "      <td>0.0628</td>\n",
              "      <td>0.1886286</td>\n",
              "      <td>0.1695286</td>\n",
              "      <td>54.05</td>\n",
              "      <td>300.4528571</td>\n",
              "      <td>300.4357143</td>\n",
              "      <td>296.9242857</td>\n",
              "      <td>302.9</td>\n",
              "      <td>298.5</td>\n",
              "      <td>45.31</td>\n",
              "      <td>81.29</td>\n",
              "      <td>54.05</td>\n",
              "      <td>18.39142857</td>\n",
              "      <td>2.3</td>\n",
              "      <td>28.38571429</td>\n",
              "      <td>6.742857143</td>\n",
              "      <td>32.8</td>\n",
              "      <td>22.8</td>\n",
              "      <td>11.7</td>\n",
              "    </tr>\n",
              "    <tr>\n",
              "      <th>1386</th>\n",
              "      <td>iq</td>\n",
              "      <td>2009</td>\n",
              "      <td>8</td>\n",
              "      <td>2009-02-19</td>\n",
              "      <td>0.1887857</td>\n",
              "      <td>0.1594571</td>\n",
              "      <td>0.1568714</td>\n",
              "      <td>0.2029857</td>\n",
              "      <td>124.8</td>\n",
              "      <td>297.6857143</td>\n",
              "      <td>299.0142857</td>\n",
              "      <td>296.2542857</td>\n",
              "      <td>306.7</td>\n",
              "      <td>294.2</td>\n",
              "      <td>124</td>\n",
              "      <td>92.90571429</td>\n",
              "      <td>124.8</td>\n",
              "      <td>17.85285714</td>\n",
              "      <td>6.828571429</td>\n",
              "      <td>27.7</td>\n",
              "      <td>12.54</td>\n",
              "      <td>35</td>\n",
              "      <td>20.5</td>\n",
              "      <td>111.4</td>\n",
              "    </tr>\n",
              "  </tbody>\n",
              "</table>\n",
              "</div>"
            ],
            "text/plain": [
              "0    city  year  ... station_min_temp_c station_precip_mm\n",
              "481    sj  1999  ...               21.7              56.2\n",
              "270    sj  1995  ...               24.4              15.8\n",
              "561    sj  2001  ...               21.1               8.5\n",
              "427    sj  1998  ...               22.8              11.7\n",
              "1386   iq  2009  ...               20.5             111.4\n",
              "\n",
              "[5 rows x 24 columns]"
            ]
          },
          "metadata": {
            "tags": []
          },
          "execution_count": 15
        }
      ]
    },
    {
      "cell_type": "code",
      "metadata": {
        "id": "zl2lhSztA_OX",
        "colab": {
          "base_uri": "https://localhost:8080/",
          "height": 193
        },
        "outputId": "12a52395-30aa-4e27-a8f9-02118d1ab967"
      },
      "source": [
        "features_train_df.describe()"
      ],
      "execution_count": null,
      "outputs": [
        {
          "output_type": "execute_result",
          "data": {
            "text/html": [
              "<div>\n",
              "<style scoped>\n",
              "    .dataframe tbody tr th:only-of-type {\n",
              "        vertical-align: middle;\n",
              "    }\n",
              "\n",
              "    .dataframe tbody tr th {\n",
              "        vertical-align: top;\n",
              "    }\n",
              "\n",
              "    .dataframe thead th {\n",
              "        text-align: right;\n",
              "    }\n",
              "</style>\n",
              "<table border=\"1\" class=\"dataframe\">\n",
              "  <thead>\n",
              "    <tr style=\"text-align: right;\">\n",
              "      <th></th>\n",
              "      <th>city</th>\n",
              "      <th>year</th>\n",
              "      <th>weekofyear</th>\n",
              "      <th>week_start_date</th>\n",
              "      <th>ndvi_ne</th>\n",
              "      <th>ndvi_nw</th>\n",
              "      <th>ndvi_se</th>\n",
              "      <th>ndvi_sw</th>\n",
              "      <th>precipitation_amt_mm</th>\n",
              "      <th>reanalysis_air_temp_k</th>\n",
              "      <th>reanalysis_avg_temp_k</th>\n",
              "      <th>reanalysis_dew_point_temp_k</th>\n",
              "      <th>reanalysis_max_air_temp_k</th>\n",
              "      <th>reanalysis_min_air_temp_k</th>\n",
              "      <th>reanalysis_precip_amt_kg_per_m2</th>\n",
              "      <th>reanalysis_relative_humidity_percent</th>\n",
              "      <th>reanalysis_sat_precip_amt_mm</th>\n",
              "      <th>reanalysis_specific_humidity_g_per_kg</th>\n",
              "      <th>reanalysis_tdtr_k</th>\n",
              "      <th>station_avg_temp_c</th>\n",
              "      <th>station_diur_temp_rng_c</th>\n",
              "      <th>station_max_temp_c</th>\n",
              "      <th>station_min_temp_c</th>\n",
              "      <th>station_precip_mm</th>\n",
              "    </tr>\n",
              "  </thead>\n",
              "  <tbody>\n",
              "    <tr>\n",
              "      <th>count</th>\n",
              "      <td>1456</td>\n",
              "      <td>1456</td>\n",
              "      <td>1456</td>\n",
              "      <td>1456</td>\n",
              "      <td>1456</td>\n",
              "      <td>1456</td>\n",
              "      <td>1456</td>\n",
              "      <td>1456</td>\n",
              "      <td>1456</td>\n",
              "      <td>1456</td>\n",
              "      <td>1456</td>\n",
              "      <td>1456</td>\n",
              "      <td>1456</td>\n",
              "      <td>1456</td>\n",
              "      <td>1456</td>\n",
              "      <td>1456</td>\n",
              "      <td>1456</td>\n",
              "      <td>1456</td>\n",
              "      <td>1456</td>\n",
              "      <td>1456</td>\n",
              "      <td>1456</td>\n",
              "      <td>1456</td>\n",
              "      <td>1456</td>\n",
              "      <td>1456</td>\n",
              "    </tr>\n",
              "    <tr>\n",
              "      <th>unique</th>\n",
              "      <td>2</td>\n",
              "      <td>21</td>\n",
              "      <td>53</td>\n",
              "      <td>1049</td>\n",
              "      <td>1215</td>\n",
              "      <td>1366</td>\n",
              "      <td>1396</td>\n",
              "      <td>1389</td>\n",
              "      <td>1158</td>\n",
              "      <td>1177</td>\n",
              "      <td>601</td>\n",
              "      <td>1181</td>\n",
              "      <td>142</td>\n",
              "      <td>118</td>\n",
              "      <td>1040</td>\n",
              "      <td>1371</td>\n",
              "      <td>1158</td>\n",
              "      <td>1172</td>\n",
              "      <td>520</td>\n",
              "      <td>493</td>\n",
              "      <td>471</td>\n",
              "      <td>74</td>\n",
              "      <td>74</td>\n",
              "      <td>664</td>\n",
              "    </tr>\n",
              "    <tr>\n",
              "      <th>top</th>\n",
              "      <td>sj</td>\n",
              "      <td>2006</td>\n",
              "      <td>28</td>\n",
              "      <td>2003-05-28</td>\n",
              "      <td></td>\n",
              "      <td></td>\n",
              "      <td></td>\n",
              "      <td></td>\n",
              "      <td>0</td>\n",
              "      <td></td>\n",
              "      <td></td>\n",
              "      <td></td>\n",
              "      <td>301.8</td>\n",
              "      <td>298</td>\n",
              "      <td></td>\n",
              "      <td></td>\n",
              "      <td>0</td>\n",
              "      <td></td>\n",
              "      <td>2.357142857</td>\n",
              "      <td></td>\n",
              "      <td></td>\n",
              "      <td>32.8</td>\n",
              "      <td>23.9</td>\n",
              "      <td>0</td>\n",
              "    </tr>\n",
              "    <tr>\n",
              "      <th>freq</th>\n",
              "      <td>936</td>\n",
              "      <td>104</td>\n",
              "      <td>28</td>\n",
              "      <td>2</td>\n",
              "      <td>194</td>\n",
              "      <td>52</td>\n",
              "      <td>22</td>\n",
              "      <td>22</td>\n",
              "      <td>239</td>\n",
              "      <td>10</td>\n",
              "      <td>10</td>\n",
              "      <td>10</td>\n",
              "      <td>35</td>\n",
              "      <td>37</td>\n",
              "      <td>10</td>\n",
              "      <td>10</td>\n",
              "      <td>239</td>\n",
              "      <td>10</td>\n",
              "      <td>21</td>\n",
              "      <td>43</td>\n",
              "      <td>43</td>\n",
              "      <td>146</td>\n",
              "      <td>135</td>\n",
              "      <td>42</td>\n",
              "    </tr>\n",
              "  </tbody>\n",
              "</table>\n",
              "</div>"
            ],
            "text/plain": [
              "0       city  year  ... station_min_temp_c station_precip_mm\n",
              "count   1456  1456  ...               1456              1456\n",
              "unique     2    21  ...                 74               664\n",
              "top       sj  2006  ...               23.9                 0\n",
              "freq     936   104  ...                135                42\n",
              "\n",
              "[4 rows x 24 columns]"
            ]
          },
          "metadata": {
            "tags": []
          },
          "execution_count": 16
        }
      ]
    },
    {
      "cell_type": "markdown",
      "metadata": {
        "id": "ZbpdKP1QBnbk"
      },
      "source": [
        "### Observations"
      ]
    },
    {
      "cell_type": "markdown",
      "metadata": {
        "id": "6OD3PNnEBRJl"
      },
      "source": [
        "* two cities, San Juan (SJ), Puerto Rico and Iquitos (IQ), Peru\n",
        "\n",
        "**Training**\n",
        "* SJ 1990 (wk 18)- 2008 (wk 17)\n",
        "* IQ 2000 (wk 26) - 2010 (wk25)\n",
        "\n",
        "**Test:**\n",
        "* SJ 2008 (wk 18) - 2013 (wk 17)\n",
        "* IQ 2010 (wk 26) - 2013 (wk26)\n",
        "\n",
        "**Data Observations**\n",
        "* Week 53 (end of year disparities), eg \"1993 Wk 53\" is actually 1992 Week 53 \n",
        "* We suspect that the date some of the data is collected, is not the actual listed day.\n",
        "* also most of the Wk 53 is actually missing all the data.\n",
        "* there are 18 Wk53's in training and 5 Wk53's in testing\n",
        "* there are blanks which need imputing\n",
        "* there are also zero's which dont look realistic  and is likely just using '0' a defaulting value.\n",
        "* for those with blanks or 0's, count the number of blanks, and split it before and after\n",
        "* all testing data is in the future \n",
        "* a lot of data seems to be redundant (same definition, identical values)\n",
        "\n",
        "**Actions Necessary**\n",
        "* need to impute the blanks and zeros.\n",
        "* suggested way to impute: do a linear fit using 2 weeks before and 2 weeks after\n",
        "* remove duplicates\n",
        "* see Basic Cleaning for Further Details"
      ]
    },
    {
      "cell_type": "markdown",
      "metadata": {
        "id": "ul1W9iqW3Q-Q"
      },
      "source": [
        "## Basic Cleaning\n",
        "* Input:\n",
        "  * all respective dataframes \n",
        "* Actions:\n",
        " * Converts cell (objects) appropriately to time, numeric values.\n",
        " * Perform imputing on missing and zero values\n",
        " * Drop duplicates\n",
        "* Outputs:\n",
        " * Non-competition features and labels are called **basic_X** and **basic_y**\n",
        " * Competition features and labels are called **competition_basic_X** and **competition_basic_y**\n",
        "\n",
        "* Note:\n",
        "  * **competition__[X,y]** data are being processed identically and in parallel to **[X,y]**, so that we can proceed to analyze competition data after model is selected."
      ]
    },
    {
      "cell_type": "markdown",
      "metadata": {
        "id": "chBRP0JILqPT"
      },
      "source": [
        "### Detailed Actions\n",
        "* converted **Week_start_date** to time internally\n",
        "* removed **precipitation_amt_mm** because it was identical to **reanalysis_sat_precip_amt_mm**\n",
        "* removed **reanalysis_air_temp_k** because it was essentially the same as **reanalysis_avg_temp_k** (average of 0.5 Kelvin diff)\n",
        "* arbitrarily kept all \"**reanalysis___XXX**\"\" and dropped all the other equivalent columns, (XXX = max, min, average, diurnal temp, precipation)\n",
        "```\n",
        "DROP_FEATURE_KEYS = ['precipitation_amt_mm', 'reanalysis_air_temp_k',\n",
        "       'station_avg_temp_c', 'station_diur_temp_rng_c', 'station_max_temp_c',\n",
        "       'station_min_temp_c', 'station_precip_mm']\n",
        "```\n",
        "* imputed missing values using the next available 2 weeks (eg 2 rows before and 2 rows after) using a linear fit\n",
        "* this probably is fine for everything, except, there are about 15 rows of **nvdi_XX** missing\n",
        " * Again, this is only a 15-row issue in the long run, so should not detrimentally affect the results (and we feel is a better impute option than median)\n",
        "* made the assumption that any 0-values needs to be interpolated. As these are weekly values, it is very strange for there to be absolutely no precipitation in a given week, especially given the neighbouring week's values are non-zero and not near zero either."
      ]
    },
    {
      "cell_type": "markdown",
      "metadata": {
        "id": "KjyoOoEfNNH9"
      },
      "source": [
        "### Cleaning Code"
      ]
    },
    {
      "cell_type": "code",
      "metadata": {
        "id": "RXWgEuE8RLm3"
      },
      "source": [
        "basic_X = clean_training_data(features_train_df, drop_keys=DROP_FEATURE_KEYS, numeric_keys=NUMERIC_FEATURE_KEYS, time_keys=TIME_FEATURE_KEYS)\n",
        "basic_y = clean_data(labels_train_df, numeric_keys=NUMERIC_LABEL_KEYS)\n",
        "\n",
        "competition_basic_X = clean_training_data(features_competition_df, drop_keys=DROP_FEATURE_KEYS, numeric_keys=NUMERIC_FEATURE_KEYS, time_keys=TIME_FEATURE_KEYS)\n",
        "competition_basic_y = clean_data(labels_competition_df, numeric_keys=NUMERIC_LABEL_KEYS)"
      ],
      "execution_count": null,
      "outputs": []
    },
    {
      "cell_type": "markdown",
      "metadata": {
        "id": "J-YADZdNDIUz"
      },
      "source": [
        "# Visualizations"
      ]
    },
    {
      "cell_type": "code",
      "metadata": {
        "id": "zWE4uFRZDWYY",
        "colab": {
          "base_uri": "https://localhost:8080/",
          "height": 422
        },
        "outputId": "e06542e9-ba72-44d5-f949-240a061a9082"
      },
      "source": [
        "plt.figure(figsize=(10,6))\n",
        "basic_y[basic_y['city']=='sj']['total_cases'].hist(bins=5,color='green', label='City = San Juan, Peurto Rico')\n",
        "basic_y[basic_y['city']=='iq']['total_cases'].hist(bins=5,color='red',label='City = Iquitos, Peru')\n",
        "plt.legend()\n",
        "plt.xlabel('Total Number of Cases')\n",
        "plt.title('Total Number of Cases by City')"
      ],
      "execution_count": null,
      "outputs": [
        {
          "output_type": "execute_result",
          "data": {
            "text/plain": [
              "Text(0.5, 1.0, 'Total Number of Cases by City')"
            ]
          },
          "metadata": {
            "tags": []
          },
          "execution_count": 18
        },
        {
          "output_type": "display_data",
          "data": {
            "image/png": "[encoded data removed]",
            "text/plain": [
              "<Figure size 720x432 with 1 Axes>"
            ]
          },
          "metadata": {
            "tags": [],
            "needs_background": "light"
          }
        }
      ]
    },
    {
      "cell_type": "code",
      "metadata": {
        "id": "EyQ7umpnDxl_"
      },
      "source": [
        "visual_df_sj = basic_y[basic_y['city'] == 'sj']\n",
        "visual_df_iq = basic_y[basic_y['city'] == 'iq']"
      ],
      "execution_count": null,
      "outputs": []
    },
    {
      "cell_type": "code",
      "metadata": {
        "id": "oR_IdXn5EMw5",
        "colab": {
          "base_uri": "https://localhost:8080/",
          "height": 459
        },
        "outputId": "d0a86920-51c7-4b99-d571-97ea19854a80"
      },
      "source": [
        "sns.jointplot(x='weekofyear',y='total_cases',data=visual_df_sj,color='green')\n",
        "plt.xlabel('Week of Year')\n",
        "plt.ylabel('Total Cases')\n",
        "plt.title('Total Cases: San Juan, Peurto Rico')"
      ],
      "execution_count": null,
      "outputs": [
        {
          "output_type": "execute_result",
          "data": {
            "text/plain": [
              "Text(0.5, 1.0, 'Total Cases: San Juan, Peurto Rico')"
            ]
          },
          "metadata": {
            "tags": []
          },
          "execution_count": 20
        },
        {
          "output_type": "display_data",
          "data": {
            "image/png": "[encoded data removed]",
            "text/plain": [
              "<Figure size 432x432 with 3 Axes>"
            ]
          },
          "metadata": {
            "tags": [],
            "needs_background": "light"
          }
        }
      ]
    },
    {
      "cell_type": "code",
      "metadata": {
        "id": "R6_DRqQjEvy1",
        "colab": {
          "base_uri": "https://localhost:8080/",
          "height": 459
        },
        "outputId": "2e4ad43a-c793-484f-ce30-980aa729cbe7"
      },
      "source": [
        "sns.jointplot(x='weekofyear',y='total_cases',data=visual_df_iq,color='red')\n",
        "plt.xlabel('Week of Year')\n",
        "plt.ylabel('Total Cases')\n",
        "plt.title('Total Cases: Iquitos, Peru')"
      ],
      "execution_count": null,
      "outputs": [
        {
          "output_type": "execute_result",
          "data": {
            "text/plain": [
              "Text(0.5, 1.0, 'Total Cases: Iquitos, Peru')"
            ]
          },
          "metadata": {
            "tags": []
          },
          "execution_count": 21
        },
        {
          "output_type": "display_data",
          "data": {
            "image/png": "[encoded data removed]",
            "text/plain": [
              "<Figure size 432x432 with 3 Axes>"
            ]
          },
          "metadata": {
            "tags": [],
            "needs_background": "light"
          }
        }
      ]
    },
    {
      "cell_type": "markdown",
      "metadata": {
        "id": "2TzuExwrJ6nz"
      },
      "source": [
        "# Custom Feature Engineering\n",
        "\n",
        "* Input: \n",
        "  * all dataframes after basic cleaning\n",
        "* Actions:\n",
        " * Adds new columns\n",
        " * Deletes old columns\n",
        "* Outputs:\n",
        " * Non-competition features and labels are called **X** and **y**\n",
        " * Competition features and labels are called **competition_X** and **competition_y**"
      ]
    },
    {
      "cell_type": "code",
      "metadata": {
        "id": "ZCKeME99NZ9-"
      },
      "source": [
        "X = basic_X.copy()\n",
        "y = basic_y  #.copy()  (no further steps occuring to y's)\n",
        "\n",
        "competition_X = competition_basic_X.copy()\n",
        "competition_y = competition_basic_y #.copy()  (no further steps occuring to y)"
      ],
      "execution_count": null,
      "outputs": []
    },
    {
      "cell_type": "markdown",
      "metadata": {
        "id": "tMsnQrEFLvHF"
      },
      "source": [
        "## Generate \"yearofdecade\" periodicity\n",
        "*  Create a column that represents long-term periodicity, using the year of decade (essentially the last digit of the year)\n",
        "* Functions as the long-term analogue of **weekofyear**\n",
        "* this is meant to handle the time-series problem, where:\n",
        "  * training data cant be randomly sampled, if there is some dependence on past data\n",
        "  * all competition test data is in the future"
      ]
    },
    {
      "cell_type": "code",
      "metadata": {
        "id": "RkI2LOlNJ_EV"
      },
      "source": [
        "X['yearofdecade'] = output_yearofdecade(basic_X['week_start_date'])\n",
        "competition_X['yearofdecade'] = output_yearofdecade(basic_X['week_start_date'])"
      ],
      "execution_count": null,
      "outputs": []
    },
    {
      "cell_type": "markdown",
      "metadata": {
        "id": "JzYIlHwSulAW"
      },
      "source": [
        "## Generate other Features"
      ]
    },
    {
      "cell_type": "code",
      "metadata": {
        "id": "JRst4Bmdu0J6"
      },
      "source": [
        "# Test, trying to handle the periodicity myself by using Cosines of the year and week\n",
        "\n",
        "max_year_of_decade = 9.0\n",
        "max_weekofyear = 53.0\n",
        "X['cos_yearofdecade'] = np.cos(2*np.pi*X['yearofdecade']/max_year_of_decade)\n",
        "competition_X['cos_yearofdecade'] = np.cos(2*np.pi*competition_X['yearofdecade']/max_year_of_decade)\n",
        "\n",
        "X['cos_weekofyear'] = np.cos(2*np.pi*X['weekofyear']/max_weekofyear)\n",
        "competition_X['cos_weekofyear'] = np.cos(2*np.pi*competition_X['weekofyear']/max_weekofyear)\n",
        "\n"
      ],
      "execution_count": null,
      "outputs": []
    },
    {
      "cell_type": "markdown",
      "metadata": {
        "id": "fA7pbpaKsjtN"
      },
      "source": [
        "## Generate features based on Look back"
      ]
    },
    {
      "cell_type": "code",
      "metadata": {
        "id": "RyhR71qwwr5X"
      },
      "source": [
        "if USE_PREV_CASES:\n",
        "  X['previous_cases'] = y['total_cases']\n",
        "  X['previous_cases']= X['previous_cases'].shift(periods=1)\n",
        "  X.at[1,'previous_cases']=X['previous_cases'][2]"
      ],
      "execution_count": null,
      "outputs": []
    },
    {
      "cell_type": "code",
      "metadata": {
        "id": "41tIc_4r36E7",
        "colab": {
          "base_uri": "https://localhost:8080/",
          "height": 224
        },
        "outputId": "544d1dd5-bc47-41ec-fbe8-1db233e948a6"
      },
      "source": [
        "X.head()"
      ],
      "execution_count": null,
      "outputs": [
        {
          "output_type": "execute_result",
          "data": {
            "text/html": [
              "<div>\n",
              "<style scoped>\n",
              "    .dataframe tbody tr th:only-of-type {\n",
              "        vertical-align: middle;\n",
              "    }\n",
              "\n",
              "    .dataframe tbody tr th {\n",
              "        vertical-align: top;\n",
              "    }\n",
              "\n",
              "    .dataframe thead th {\n",
              "        text-align: right;\n",
              "    }\n",
              "</style>\n",
              "<table border=\"1\" class=\"dataframe\">\n",
              "  <thead>\n",
              "    <tr style=\"text-align: right;\">\n",
              "      <th></th>\n",
              "      <th>city</th>\n",
              "      <th>year</th>\n",
              "      <th>weekofyear</th>\n",
              "      <th>week_start_date</th>\n",
              "      <th>ndvi_ne</th>\n",
              "      <th>ndvi_nw</th>\n",
              "      <th>ndvi_se</th>\n",
              "      <th>ndvi_sw</th>\n",
              "      <th>reanalysis_avg_temp_k</th>\n",
              "      <th>reanalysis_dew_point_temp_k</th>\n",
              "      <th>reanalysis_max_air_temp_k</th>\n",
              "      <th>reanalysis_min_air_temp_k</th>\n",
              "      <th>reanalysis_precip_amt_kg_per_m2</th>\n",
              "      <th>reanalysis_relative_humidity_percent</th>\n",
              "      <th>reanalysis_sat_precip_amt_mm</th>\n",
              "      <th>reanalysis_specific_humidity_g_per_kg</th>\n",
              "      <th>reanalysis_tdtr_k</th>\n",
              "      <th>yearofdecade</th>\n",
              "      <th>cos_yearofdecade</th>\n",
              "      <th>cos_weekofyear</th>\n",
              "    </tr>\n",
              "  </thead>\n",
              "  <tbody>\n",
              "    <tr>\n",
              "      <th>1</th>\n",
              "      <td>sj</td>\n",
              "      <td>1990</td>\n",
              "      <td>18</td>\n",
              "      <td>1990-04-30</td>\n",
              "      <td>0.122600</td>\n",
              "      <td>0.103725</td>\n",
              "      <td>0.198483</td>\n",
              "      <td>0.177617</td>\n",
              "      <td>297.742857</td>\n",
              "      <td>292.414286</td>\n",
              "      <td>299.8</td>\n",
              "      <td>295.9</td>\n",
              "      <td>32.00</td>\n",
              "      <td>73.365714</td>\n",
              "      <td>12.42</td>\n",
              "      <td>14.012857</td>\n",
              "      <td>2.628571</td>\n",
              "      <td>0</td>\n",
              "      <td>1.0</td>\n",
              "      <td>-0.533823</td>\n",
              "    </tr>\n",
              "    <tr>\n",
              "      <th>2</th>\n",
              "      <td>sj</td>\n",
              "      <td>1990</td>\n",
              "      <td>19</td>\n",
              "      <td>1990-05-07</td>\n",
              "      <td>0.169900</td>\n",
              "      <td>0.142175</td>\n",
              "      <td>0.162357</td>\n",
              "      <td>0.155486</td>\n",
              "      <td>298.442857</td>\n",
              "      <td>293.951429</td>\n",
              "      <td>300.9</td>\n",
              "      <td>296.4</td>\n",
              "      <td>17.94</td>\n",
              "      <td>77.368571</td>\n",
              "      <td>22.82</td>\n",
              "      <td>15.372857</td>\n",
              "      <td>2.371429</td>\n",
              "      <td>0</td>\n",
              "      <td>1.0</td>\n",
              "      <td>-0.630088</td>\n",
              "    </tr>\n",
              "    <tr>\n",
              "      <th>3</th>\n",
              "      <td>sj</td>\n",
              "      <td>1990</td>\n",
              "      <td>20</td>\n",
              "      <td>1990-05-14</td>\n",
              "      <td>0.032250</td>\n",
              "      <td>0.172967</td>\n",
              "      <td>0.157200</td>\n",
              "      <td>0.170843</td>\n",
              "      <td>298.878571</td>\n",
              "      <td>295.434286</td>\n",
              "      <td>300.5</td>\n",
              "      <td>297.3</td>\n",
              "      <td>26.10</td>\n",
              "      <td>82.052857</td>\n",
              "      <td>34.54</td>\n",
              "      <td>16.848571</td>\n",
              "      <td>2.300000</td>\n",
              "      <td>0</td>\n",
              "      <td>1.0</td>\n",
              "      <td>-0.717507</td>\n",
              "    </tr>\n",
              "    <tr>\n",
              "      <th>4</th>\n",
              "      <td>sj</td>\n",
              "      <td>1990</td>\n",
              "      <td>21</td>\n",
              "      <td>1990-05-21</td>\n",
              "      <td>0.128633</td>\n",
              "      <td>0.245067</td>\n",
              "      <td>0.227557</td>\n",
              "      <td>0.235886</td>\n",
              "      <td>299.228571</td>\n",
              "      <td>295.310000</td>\n",
              "      <td>301.4</td>\n",
              "      <td>297.0</td>\n",
              "      <td>13.90</td>\n",
              "      <td>80.337143</td>\n",
              "      <td>15.36</td>\n",
              "      <td>16.672857</td>\n",
              "      <td>2.428571</td>\n",
              "      <td>0</td>\n",
              "      <td>1.0</td>\n",
              "      <td>-0.794854</td>\n",
              "    </tr>\n",
              "    <tr>\n",
              "      <th>5</th>\n",
              "      <td>sj</td>\n",
              "      <td>1990</td>\n",
              "      <td>22</td>\n",
              "      <td>1990-05-28</td>\n",
              "      <td>0.196200</td>\n",
              "      <td>0.262200</td>\n",
              "      <td>0.251200</td>\n",
              "      <td>0.247340</td>\n",
              "      <td>299.664286</td>\n",
              "      <td>295.821429</td>\n",
              "      <td>301.9</td>\n",
              "      <td>297.5</td>\n",
              "      <td>12.20</td>\n",
              "      <td>80.460000</td>\n",
              "      <td>7.52</td>\n",
              "      <td>17.210000</td>\n",
              "      <td>3.014286</td>\n",
              "      <td>0</td>\n",
              "      <td>1.0</td>\n",
              "      <td>-0.861044</td>\n",
              "    </tr>\n",
              "  </tbody>\n",
              "</table>\n",
              "</div>"
            ],
            "text/plain": [
              "0 city  year  weekofyear  ... yearofdecade  cos_yearofdecade  cos_weekofyear\n",
              "1   sj  1990          18  ...            0               1.0       -0.533823\n",
              "2   sj  1990          19  ...            0               1.0       -0.630088\n",
              "3   sj  1990          20  ...            0               1.0       -0.717507\n",
              "4   sj  1990          21  ...            0               1.0       -0.794854\n",
              "5   sj  1990          22  ...            0               1.0       -0.861044\n",
              "\n",
              "[5 rows x 20 columns]"
            ]
          },
          "metadata": {
            "tags": []
          },
          "execution_count": 26
        }
      ]
    },
    {
      "cell_type": "markdown",
      "metadata": {
        "id": "q6GCbY1nroNR"
      },
      "source": [
        "# Pipeline\n",
        "* Input: all dataframes after feature engineering\n",
        "* Actions:\n",
        " * Feed throu a pipeline\n",
        "* Outputs:\n",
        " * Non-competition features and labels are called **X_prep** and **y_prep**\n",
        " * Competition features and labels are called **competition_X_prep** and **competition_y_prep**"
      ]
    },
    {
      "cell_type": "code",
      "metadata": {
        "id": "EVLJm0MqR1Ap"
      },
      "source": [
        "\n",
        "cat_attribs = PIPELINE_CATEGORY_KEYS_RF\n",
        "# num_attribs = PIPELINE_NUMERIC_KEYS  # if num_attribs need scaling\n",
        "num_attribs = PIPELINE_NUMERIC_KEYS_RF # this is actually empty, because RF Numerics dont need scaling.\n",
        "passthru_attribs = PIPELINE_PASSTHRU_KEYS_RF.copy()\n",
        "\n",
        "if USE_PREV_CASES:\n",
        "  passthru_attribs.append('previous_cases')\n",
        "drop_attribs = PIPELINE_DROP_KEYS  # for reference only, nothing is being done to ['year','week_start_date'] so it will be dropped\n",
        "\n",
        "full_pipeline = ColumnTransformer([\n",
        "                                   (\"cat\",OneHotEncoder(sparse=False, drop='first'), cat_attribs),\n",
        "                                   (\"num\", StandardScaler(), num_attribs),\n",
        "                                   (\"passthru\",'passthrough', passthru_attribs),\n",
        "                                   ],\n",
        "                                  remainder='drop'\n",
        "                                  )\n",
        "full_pipeline.fit(X)\n",
        "pipeline_cols = get_column_names_from_ColumnTransformer(full_pipeline)"
      ],
      "execution_count": null,
      "outputs": []
    },
    {
      "cell_type": "code",
      "metadata": {
        "id": "Jebd48h1-jGv"
      },
      "source": [
        "# ensures X_prep remains a dataframe \n",
        "X_prep = pd.DataFrame(full_pipeline.transform(X), columns=pipeline_cols)\n",
        "y_prep = y # no need to deep copy, no changes were made\n",
        "X_prep.index = np.arange(1, len(X_prep) + 1)\n",
        "\n",
        "if not USE_PREV_CASES:\n",
        "  competition_X_prep = pd.DataFrame(full_pipeline.transform(competition_X), columns=pipeline_cols)\n",
        "  competition_X_prep.index = np.arange(1, len(competition_X_prep) + 1)\n",
        "  competition_y_prep = competition_y #no need to deep copy, no changes were made\n",
        "\n"
      ],
      "execution_count": null,
      "outputs": []
    },
    {
      "cell_type": "code",
      "metadata": {
        "id": "97_I9zanFyAh",
        "colab": {
          "base_uri": "https://localhost:8080/",
          "height": 35
        },
        "outputId": "8ac59c74-5750-4032-de34-7116ea4b5126"
      },
      "source": [
        "X_prep.shape, y_prep.shape"
      ],
      "execution_count": null,
      "outputs": [
        {
          "output_type": "execute_result",
          "data": {
            "text/plain": [
              "((1456, 16), (1456, 4))"
            ]
          },
          "metadata": {
            "tags": []
          },
          "execution_count": 29
        }
      ]
    },
    {
      "cell_type": "code",
      "metadata": {
        "id": "GNJABZDQ6Aqh",
        "colab": {
          "base_uri": "https://localhost:8080/",
          "height": 224
        },
        "outputId": "9d231765-bfac-47f6-bd5a-b6740248d8b6"
      },
      "source": [
        "X_prep.sample(5)\n",
        "# x0_  is SJ or not SJ\n"
      ],
      "execution_count": null,
      "outputs": [
        {
          "output_type": "execute_result",
          "data": {
            "text/html": [
              "<div>\n",
              "<style scoped>\n",
              "    .dataframe tbody tr th:only-of-type {\n",
              "        vertical-align: middle;\n",
              "    }\n",
              "\n",
              "    .dataframe tbody tr th {\n",
              "        vertical-align: top;\n",
              "    }\n",
              "\n",
              "    .dataframe thead th {\n",
              "        text-align: right;\n",
              "    }\n",
              "</style>\n",
              "<table border=\"1\" class=\"dataframe\">\n",
              "  <thead>\n",
              "    <tr style=\"text-align: right;\">\n",
              "      <th></th>\n",
              "      <th>x0_sj</th>\n",
              "      <th>reanalysis_avg_temp_k</th>\n",
              "      <th>reanalysis_dew_point_temp_k</th>\n",
              "      <th>reanalysis_max_air_temp_k</th>\n",
              "      <th>reanalysis_min_air_temp_k</th>\n",
              "      <th>reanalysis_precip_amt_kg_per_m2</th>\n",
              "      <th>reanalysis_relative_humidity_percent</th>\n",
              "      <th>reanalysis_sat_precip_amt_mm</th>\n",
              "      <th>reanalysis_specific_humidity_g_per_kg</th>\n",
              "      <th>reanalysis_tdtr_k</th>\n",
              "      <th>cos_weekofyear</th>\n",
              "      <th>cos_yearofdecade</th>\n",
              "      <th>ndvi_ne</th>\n",
              "      <th>ndvi_nw</th>\n",
              "      <th>ndvi_se</th>\n",
              "      <th>ndvi_sw</th>\n",
              "    </tr>\n",
              "  </thead>\n",
              "  <tbody>\n",
              "    <tr>\n",
              "      <th>912</th>\n",
              "      <td>1.0</td>\n",
              "      <td>300.685714</td>\n",
              "      <td>295.838571</td>\n",
              "      <td>302.6</td>\n",
              "      <td>298.2</td>\n",
              "      <td>10.3</td>\n",
              "      <td>75.350000</td>\n",
              "      <td>15.25</td>\n",
              "      <td>17.295714</td>\n",
              "      <td>2.257143</td>\n",
              "      <td>0.582979</td>\n",
              "      <td>0.173648</td>\n",
              "      <td>-0.251700</td>\n",
              "      <td>-0.048600</td>\n",
              "      <td>0.205171</td>\n",
              "      <td>0.172883</td>\n",
              "    </tr>\n",
              "    <tr>\n",
              "      <th>236</th>\n",
              "      <td>1.0</td>\n",
              "      <td>300.050000</td>\n",
              "      <td>295.845714</td>\n",
              "      <td>301.9</td>\n",
              "      <td>298.3</td>\n",
              "      <td>15.6</td>\n",
              "      <td>78.685714</td>\n",
              "      <td>5.41</td>\n",
              "      <td>17.264286</td>\n",
              "      <td>2.328571</td>\n",
              "      <td>0.482792</td>\n",
              "      <td>-0.939693</td>\n",
              "      <td>0.133644</td>\n",
              "      <td>0.121452</td>\n",
              "      <td>0.221068</td>\n",
              "      <td>0.223399</td>\n",
              "    </tr>\n",
              "    <tr>\n",
              "      <th>793</th>\n",
              "      <td>1.0</td>\n",
              "      <td>300.892857</td>\n",
              "      <td>296.981429</td>\n",
              "      <td>303.1</td>\n",
              "      <td>298.8</td>\n",
              "      <td>31.9</td>\n",
              "      <td>79.481429</td>\n",
              "      <td>39.49</td>\n",
              "      <td>18.481429</td>\n",
              "      <td>2.442857</td>\n",
              "      <td>-0.956401</td>\n",
              "      <td>-0.939693</td>\n",
              "      <td>-0.066500</td>\n",
              "      <td>-0.021000</td>\n",
              "      <td>0.235829</td>\n",
              "      <td>0.233343</td>\n",
              "    </tr>\n",
              "    <tr>\n",
              "      <th>190</th>\n",
              "      <td>1.0</td>\n",
              "      <td>298.585714</td>\n",
              "      <td>294.160000</td>\n",
              "      <td>300.8</td>\n",
              "      <td>296.2</td>\n",
              "      <td>28.6</td>\n",
              "      <td>76.854286</td>\n",
              "      <td>14.82</td>\n",
              "      <td>15.571429</td>\n",
              "      <td>2.457143</td>\n",
              "      <td>0.937420</td>\n",
              "      <td>-0.500000</td>\n",
              "      <td>-0.290200</td>\n",
              "      <td>-0.067667</td>\n",
              "      <td>0.168286</td>\n",
              "      <td>0.080000</td>\n",
              "    </tr>\n",
              "    <tr>\n",
              "      <th>370</th>\n",
              "      <td>1.0</td>\n",
              "      <td>299.042857</td>\n",
              "      <td>295.978571</td>\n",
              "      <td>300.6</td>\n",
              "      <td>297.9</td>\n",
              "      <td>41.7</td>\n",
              "      <td>83.485714</td>\n",
              "      <td>118.35</td>\n",
              "      <td>17.368571</td>\n",
              "      <td>1.971429</td>\n",
              "      <td>-0.915146</td>\n",
              "      <td>0.173648</td>\n",
              "      <td>0.055700</td>\n",
              "      <td>0.088950</td>\n",
              "      <td>0.184157</td>\n",
              "      <td>0.162357</td>\n",
              "    </tr>\n",
              "  </tbody>\n",
              "</table>\n",
              "</div>"
            ],
            "text/plain": [
              "     x0_sj  reanalysis_avg_temp_k  ...   ndvi_se   ndvi_sw\n",
              "912    1.0             300.685714  ...  0.205171  0.172883\n",
              "236    1.0             300.050000  ...  0.221068  0.223399\n",
              "793    1.0             300.892857  ...  0.235829  0.233343\n",
              "190    1.0             298.585714  ...  0.168286  0.080000\n",
              "370    1.0             299.042857  ...  0.184157  0.162357\n",
              "\n",
              "[5 rows x 16 columns]"
            ]
          },
          "metadata": {
            "tags": []
          },
          "execution_count": 30
        }
      ]
    },
    {
      "cell_type": "markdown",
      "metadata": {
        "id": "fNnexrc77ZIp"
      },
      "source": [
        "# Train Test Split\n",
        "* Input: data after pipeline preparation (non competition) **X_prep** and **y_prep**\n",
        "* Actions:\n",
        " * Split into train and test (competition_ data is ignored)\n",
        "* Outputs:\n",
        " * Non-competition train, test features and labels are called **X_train**, **y_train**, **X_test** and **y_test**\n",
        "* from now on, y_train and y_test only contains total cases (1 col)\n"
      ]
    },
    {
      "cell_type": "code",
      "metadata": {
        "id": "6B_YV45mc3Jx"
      },
      "source": [
        "X_train, X_test,y_train, y_test = train_test_split(X_prep,y_prep['total_cases'],test_size=TEST_SIZE,random_state=RANDOM_STATE)"
      ],
      "execution_count": null,
      "outputs": []
    },
    {
      "cell_type": "code",
      "metadata": {
        "id": "X-MtHDnl-9v1",
        "colab": {
          "base_uri": "https://localhost:8080/",
          "height": 35
        },
        "outputId": "66d82577-9ef7-4b6c-f0e2-c8cb208af20d"
      },
      "source": [
        "X_prep.shape,y_prep.shape"
      ],
      "execution_count": null,
      "outputs": [
        {
          "output_type": "execute_result",
          "data": {
            "text/plain": [
              "((1456, 16), (1456, 4))"
            ]
          },
          "metadata": {
            "tags": []
          },
          "execution_count": 32
        }
      ]
    },
    {
      "cell_type": "code",
      "metadata": {
        "id": "8gk8gxVvJ_PF",
        "colab": {
          "base_uri": "https://localhost:8080/",
          "height": 35
        },
        "outputId": "f6bf0905-5807-4ff0-8149-7a6fa3a7fea0"
      },
      "source": [
        "X_train.shape,X_test.shape,y_train.shape,y_test.shape"
      ],
      "execution_count": null,
      "outputs": [
        {
          "output_type": "execute_result",
          "data": {
            "text/plain": [
              "((1092, 16), (364, 16), (1092,), (364,))"
            ]
          },
          "metadata": {
            "tags": []
          },
          "execution_count": 33
        }
      ]
    },
    {
      "cell_type": "markdown",
      "metadata": {
        "id": "klaUCz6hDfir"
      },
      "source": [
        "# Feature Importances\n",
        "* This is an optional step, mainly to look at the rankings of engineered features.\n",
        "* Input: data after split (non competition) **X_train** and **y_train**\n",
        "* Actions:\n",
        " * Prints out the n most important features, using a RF Regressor\n",
        " * you can feed in a params dictionary using params_dict={'feature':value} notation\n",
        " * also returns a list of feature names of the n most important\n",
        " * Setting most_important_n = -1 or leaving it out, implies the entire list\n",
        " * Setting print_all=True prints the full feature ranking. False or leaving it out prints the n-most important.\n",
        "* Outputs:\n",
        " * a list of the n-most important features, **most_important_feature_list**\n"
      ]
    },
    {
      "cell_type": "code",
      "metadata": {
        "id": "Xx9KeqHeFIf9",
        "colab": {
          "base_uri": "https://localhost:8080/",
          "height": 784
        },
        "outputId": "dee03e14-e700-408c-fdbe-ea12d303712e"
      },
      "source": [
        "prelim_important_feature_list = show_feature_importance(X_train,y_train, most_important_n=15, print_all=False, params_dict={'n_estimators':100})\n",
        "prelim_important_feature_list"
      ],
      "execution_count": null,
      "outputs": [
        {
          "output_type": "display_data",
          "data": {
            "text/html": [
              "<div>\n",
              "<style scoped>\n",
              "    .dataframe tbody tr th:only-of-type {\n",
              "        vertical-align: middle;\n",
              "    }\n",
              "\n",
              "    .dataframe tbody tr th {\n",
              "        vertical-align: top;\n",
              "    }\n",
              "\n",
              "    .dataframe thead th {\n",
              "        text-align: right;\n",
              "    }\n",
              "</style>\n",
              "<table border=\"1\" class=\"dataframe\">\n",
              "  <thead>\n",
              "    <tr style=\"text-align: right;\">\n",
              "      <th></th>\n",
              "      <th>Feature</th>\n",
              "      <th>Importance</th>\n",
              "      <th>Cumulative Importance</th>\n",
              "    </tr>\n",
              "  </thead>\n",
              "  <tbody>\n",
              "    <tr>\n",
              "      <th>1</th>\n",
              "      <td>ndvi_sw</td>\n",
              "      <td>0.189166</td>\n",
              "      <td>0.189166</td>\n",
              "    </tr>\n",
              "    <tr>\n",
              "      <th>2</th>\n",
              "      <td>reanalysis_min_air_temp_k</td>\n",
              "      <td>0.136442</td>\n",
              "      <td>0.325607</td>\n",
              "    </tr>\n",
              "    <tr>\n",
              "      <th>3</th>\n",
              "      <td>ndvi_nw</td>\n",
              "      <td>0.125313</td>\n",
              "      <td>0.450920</td>\n",
              "    </tr>\n",
              "    <tr>\n",
              "      <th>4</th>\n",
              "      <td>cos_weekofyear</td>\n",
              "      <td>0.089926</td>\n",
              "      <td>0.540846</td>\n",
              "    </tr>\n",
              "    <tr>\n",
              "      <th>5</th>\n",
              "      <td>cos_yearofdecade</td>\n",
              "      <td>0.089849</td>\n",
              "      <td>0.630695</td>\n",
              "    </tr>\n",
              "    <tr>\n",
              "      <th>6</th>\n",
              "      <td>reanalysis_dew_point_temp_k</td>\n",
              "      <td>0.053899</td>\n",
              "      <td>0.684594</td>\n",
              "    </tr>\n",
              "    <tr>\n",
              "      <th>7</th>\n",
              "      <td>reanalysis_sat_precip_amt_mm</td>\n",
              "      <td>0.048968</td>\n",
              "      <td>0.733562</td>\n",
              "    </tr>\n",
              "    <tr>\n",
              "      <th>8</th>\n",
              "      <td>reanalysis_specific_humidity_g_per_kg</td>\n",
              "      <td>0.042117</td>\n",
              "      <td>0.775679</td>\n",
              "    </tr>\n",
              "    <tr>\n",
              "      <th>9</th>\n",
              "      <td>reanalysis_tdtr_k</td>\n",
              "      <td>0.040936</td>\n",
              "      <td>0.816615</td>\n",
              "    </tr>\n",
              "    <tr>\n",
              "      <th>10</th>\n",
              "      <td>reanalysis_precip_amt_kg_per_m2</td>\n",
              "      <td>0.037354</td>\n",
              "      <td>0.853969</td>\n",
              "    </tr>\n",
              "    <tr>\n",
              "      <th>11</th>\n",
              "      <td>reanalysis_relative_humidity_percent</td>\n",
              "      <td>0.036650</td>\n",
              "      <td>0.890619</td>\n",
              "    </tr>\n",
              "    <tr>\n",
              "      <th>12</th>\n",
              "      <td>reanalysis_avg_temp_k</td>\n",
              "      <td>0.031907</td>\n",
              "      <td>0.922526</td>\n",
              "    </tr>\n",
              "    <tr>\n",
              "      <th>13</th>\n",
              "      <td>ndvi_se</td>\n",
              "      <td>0.030069</td>\n",
              "      <td>0.952595</td>\n",
              "    </tr>\n",
              "    <tr>\n",
              "      <th>14</th>\n",
              "      <td>ndvi_ne</td>\n",
              "      <td>0.023725</td>\n",
              "      <td>0.976320</td>\n",
              "    </tr>\n",
              "    <tr>\n",
              "      <th>15</th>\n",
              "      <td>reanalysis_max_air_temp_k</td>\n",
              "      <td>0.023661</td>\n",
              "      <td>0.999981</td>\n",
              "    </tr>\n",
              "  </tbody>\n",
              "</table>\n",
              "</div>"
            ],
            "text/plain": [
              "                                  Feature  Importance  Cumulative Importance\n",
              "1                                 ndvi_sw    0.189166               0.189166\n",
              "2               reanalysis_min_air_temp_k    0.136442               0.325607\n",
              "3                                 ndvi_nw    0.125313               0.450920\n",
              "4                          cos_weekofyear    0.089926               0.540846\n",
              "5                        cos_yearofdecade    0.089849               0.630695\n",
              "6             reanalysis_dew_point_temp_k    0.053899               0.684594\n",
              "7            reanalysis_sat_precip_amt_mm    0.048968               0.733562\n",
              "8   reanalysis_specific_humidity_g_per_kg    0.042117               0.775679\n",
              "9                       reanalysis_tdtr_k    0.040936               0.816615\n",
              "10        reanalysis_precip_amt_kg_per_m2    0.037354               0.853969\n",
              "11   reanalysis_relative_humidity_percent    0.036650               0.890619\n",
              "12                  reanalysis_avg_temp_k    0.031907               0.922526\n",
              "13                                ndvi_se    0.030069               0.952595\n",
              "14                                ndvi_ne    0.023725               0.976320\n",
              "15              reanalysis_max_air_temp_k    0.023661               0.999981"
            ]
          },
          "metadata": {
            "tags": []
          }
        },
        {
          "output_type": "execute_result",
          "data": {
            "text/plain": [
              "['ndvi_sw',\n",
              " 'reanalysis_min_air_temp_k',\n",
              " 'ndvi_nw',\n",
              " 'cos_weekofyear',\n",
              " 'cos_yearofdecade',\n",
              " 'reanalysis_dew_point_temp_k',\n",
              " 'reanalysis_sat_precip_amt_mm',\n",
              " 'reanalysis_specific_humidity_g_per_kg',\n",
              " 'reanalysis_tdtr_k',\n",
              " 'reanalysis_precip_amt_kg_per_m2',\n",
              " 'reanalysis_relative_humidity_percent',\n",
              " 'reanalysis_avg_temp_k',\n",
              " 'ndvi_se',\n",
              " 'ndvi_ne',\n",
              " 'reanalysis_max_air_temp_k']"
            ]
          },
          "metadata": {
            "tags": []
          },
          "execution_count": 34
        }
      ]
    },
    {
      "cell_type": "markdown",
      "metadata": {
        "id": "8deKrCJ7B3I9"
      },
      "source": [
        "# Model Fitting"
      ]
    },
    {
      "cell_type": "markdown",
      "metadata": {
        "id": "uWI9YHXcSn6_"
      },
      "source": [
        "## Preliminary broad model search\n",
        "* **Note** that this was only a broad-based search. In initial exploratory analyses, **Pipeline scaled the numerical values**, however since it was not necessary for RandomForest (our final chose of model), these right now are running non-scaled numerica data, and may not give optimal result."
      ]
    },
    {
      "cell_type": "code",
      "metadata": {
        "id": "vOUqDhDNCOlp"
      },
      "source": [
        "tree_reg = DecisionTreeRegressor(max_depth=4)\n",
        "\n",
        "forest_reg = RandomForestRegressor(random_state=RANDOM_STATE)\n",
        "forest_reg.fit(X_train, y_train)\n",
        "\n",
        "lin_reg = LinearRegression()\n",
        "\n",
        "lin_svm_reg = LinearSVR()\n",
        "svr_reg = SVR()"
      ],
      "execution_count": null,
      "outputs": []
    },
    {
      "cell_type": "code",
      "metadata": {
        "id": "7wS2n0--Db6J",
        "colab": {
          "base_uri": "https://localhost:8080/",
          "height": 287
        },
        "outputId": "f717faaa-8b03-49cb-ca5c-7518be358d0c"
      },
      "source": [
        "# Cross validate\n",
        "tree_reg_scores = cross_val_score(tree_reg, X_train, y_train, cv=CROSS_VAL_FOLDS, scoring='neg_mean_absolute_error')\n",
        "print(\"Decision Tree score:\", tree_reg_scores)\n",
        "\n",
        "forest_reg_scores = cross_val_score(forest_reg, X_train, y_train, cv=CROSS_VAL_FOLDS, scoring='neg_mean_absolute_error')\n",
        "print(\"Random Forest score: \", forest_reg_scores)\n",
        "\n",
        "lin_reg_scores = cross_val_score(lin_reg, X_train, y_train, cv=CROSS_VAL_FOLDS, scoring='neg_mean_absolute_error')\n",
        "print(\"Linear Reg score: \", lin_reg_scores)\n",
        "\n",
        "lin_svm_reg_scores = cross_val_score(lin_svm_reg, X_train, y_train, cv=CROSS_VAL_FOLDS, scoring='neg_mean_absolute_error')\n",
        "print(\"Linear SVM score: \", lin_svm_reg_scores)\n",
        "\n",
        "svr_reg_scores = cross_val_score(svr_reg, X_train, y_train, cv=CROSS_VAL_FOLDS, scoring='neg_mean_absolute_error')\n",
        "print(\"SVR score: \", svr_reg_scores)\n"
      ],
      "execution_count": null,
      "outputs": [
        {
          "output_type": "stream",
          "text": [
            "Decision Tree score: [-14.80767585 -21.10423256 -19.42458853 -15.67180681 -14.98199479]\n",
            "Random Forest score:  [-16.56557078 -18.22415525 -16.71844037 -13.63376147 -13.61619266]\n",
            "Linear Reg score:  [-20.71414165 -20.40224411 -20.13015454 -19.0308358  -17.41662138]\n"
          ],
          "name": "stdout"
        },
        {
          "output_type": "stream",
          "text": [
            "/usr/local/lib/python3.6/dist-packages/sklearn/svm/_base.py:947: ConvergenceWarning: Liblinear failed to converge, increase the number of iterations.\n",
            "  \"the number of iterations.\", ConvergenceWarning)\n",
            "/usr/local/lib/python3.6/dist-packages/sklearn/svm/_base.py:947: ConvergenceWarning: Liblinear failed to converge, increase the number of iterations.\n",
            "  \"the number of iterations.\", ConvergenceWarning)\n",
            "/usr/local/lib/python3.6/dist-packages/sklearn/svm/_base.py:947: ConvergenceWarning: Liblinear failed to converge, increase the number of iterations.\n",
            "  \"the number of iterations.\", ConvergenceWarning)\n",
            "/usr/local/lib/python3.6/dist-packages/sklearn/svm/_base.py:947: ConvergenceWarning: Liblinear failed to converge, increase the number of iterations.\n",
            "  \"the number of iterations.\", ConvergenceWarning)\n",
            "/usr/local/lib/python3.6/dist-packages/sklearn/svm/_base.py:947: ConvergenceWarning: Liblinear failed to converge, increase the number of iterations.\n",
            "  \"the number of iterations.\", ConvergenceWarning)\n"
          ],
          "name": "stderr"
        },
        {
          "output_type": "stream",
          "text": [
            "Linear SVM score:  [-27.55935093 -22.48188076 -25.87151226 -16.73328111 -22.15754339]\n",
            "SVR score:  [-18.69372582 -20.91744305 -21.30452375 -16.13707533 -16.37343949]\n"
          ],
          "name": "stdout"
        }
      ]
    },
    {
      "cell_type": "code",
      "metadata": {
        "id": "opdGjdJCEsMN",
        "colab": {
          "base_uri": "https://localhost:8080/",
          "height": 35
        },
        "outputId": "0afe0aa8-f2fc-44e1-ca0e-8ab400779a18"
      },
      "source": [
        "y_pred = forest_reg.predict(X_train)\n",
        "forest_reg_mae = mean_absolute_error(y_train, y_pred)\n",
        "\n",
        "y_pred, y_train\n",
        "print(forest_reg_mae)"
      ],
      "execution_count": null,
      "outputs": [
        {
          "output_type": "stream",
          "text": [
            "5.587591575091575\n"
          ],
          "name": "stdout"
        }
      ]
    },
    {
      "cell_type": "markdown",
      "metadata": {
        "id": "Tjvqs50epjx5"
      },
      "source": [
        "## Support Vector\n",
        "* Note that this was only part of an exploratory analyses, and when utilized, Pipeline scaled most numerical values, however since it was not necessary for RandomForest (our final chose of model), these right now are running non-scaled numerica data, and may not give optimal result."
      ]
    },
    {
      "cell_type": "markdown",
      "metadata": {
        "id": "5dFQ00lQpvQv"
      },
      "source": [
        "### Base Model"
      ]
    },
    {
      "cell_type": "code",
      "metadata": {
        "id": "fjrC4li8ptsT",
        "colab": {
          "base_uri": "https://localhost:8080/",
          "height": 35
        },
        "outputId": "36cb303b-8b2f-41bd-c414-3555fdea2085"
      },
      "source": [
        "svr_reg = SVR()\n",
        "svr_reg_scores = cross_val_score(svr_reg, X_train, y_train, cv=CROSS_VAL_FOLDS, scoring='neg_mean_absolute_error')\n",
        "print(\"SVR score: \", svr_reg_scores)"
      ],
      "execution_count": null,
      "outputs": [
        {
          "output_type": "stream",
          "text": [
            "SVR score:  [-18.69372582 -20.91744305 -21.30452375 -16.13707533 -16.37343949]\n"
          ],
          "name": "stdout"
        }
      ]
    },
    {
      "cell_type": "code",
      "metadata": {
        "id": "hxYZVJbHqmO8",
        "colab": {
          "base_uri": "https://localhost:8080/",
          "height": 35
        },
        "outputId": "e6650eba-8910-465e-aa90-63b24126ce4c"
      },
      "source": [
        "svr_reg.fit(X_train, y_train)\n",
        "print(\"The SVM's MAE on training data is:\",  predictions_and_mae(svr_reg, X_train, y_train)[1])"
      ],
      "execution_count": null,
      "outputs": [
        {
          "output_type": "stream",
          "text": [
            "The SVM's MAE on training data is: 18.602282008168682\n"
          ],
          "name": "stdout"
        }
      ]
    },
    {
      "cell_type": "markdown",
      "metadata": {
        "id": "tSX36BSJs0rE"
      },
      "source": [
        "### Grid Search"
      ]
    },
    {
      "cell_type": "markdown",
      "metadata": {
        "id": "VzS5bRNBtDw1"
      },
      "source": [
        ""
      ]
    },
    {
      "cell_type": "code",
      "metadata": {
        "id": "uoucWy6dtEDP",
        "colab": {
          "base_uri": "https://localhost:8080/",
          "height": 215
        },
        "outputId": "b41ee301-afb2-4fdc-b641-27bb50a8703a"
      },
      "source": [
        "sv_param_grid = {'kernel': ['linear','rbf','sigmoid'],\n",
        "                 'tol': [0.0001, 0.001, 0.01, 0.1],\n",
        "                 'gamma': ['scale','auto'],\n",
        "                 'degree': [2,3]\n",
        "                 }\n",
        "\n",
        "sv_grid_search = GridSearchCV(SVR(), sv_param_grid, cv=CROSS_VAL_FOLDS, scoring='neg_mean_absolute_error', return_train_score=True)\n",
        "sv_grid_search.fit(X_train, y_train)"
      ],
      "execution_count": null,
      "outputs": [
        {
          "output_type": "execute_result",
          "data": {
            "text/plain": [
              "GridSearchCV(cv=5, error_score=nan,\n",
              "             estimator=SVR(C=1.0, cache_size=200, coef0=0.0, degree=3,\n",
              "                           epsilon=0.1, gamma='scale', kernel='rbf',\n",
              "                           max_iter=-1, shrinking=True, tol=0.001,\n",
              "                           verbose=False),\n",
              "             iid='deprecated', n_jobs=None,\n",
              "             param_grid={'degree': [2, 3], 'gamma': ['scale', 'auto'],\n",
              "                         'kernel': ['linear', 'rbf', 'sigmoid'],\n",
              "                         'tol': [0.0001, 0.001, 0.01, 0.1]},\n",
              "             pre_dispatch='2*n_jobs', refit=True, return_train_score=True,\n",
              "             scoring='neg_mean_absolute_error', verbose=0)"
            ]
          },
          "metadata": {
            "tags": []
          },
          "execution_count": 40
        }
      ]
    },
    {
      "cell_type": "markdown",
      "metadata": {
        "id": "HWNTkDqcs4AS"
      },
      "source": [
        "### Grid Search Results"
      ]
    },
    {
      "cell_type": "code",
      "metadata": {
        "id": "dZDwQfNmvZfP",
        "colab": {
          "base_uri": "https://localhost:8080/",
          "height": 35
        },
        "outputId": "d57a42be-cc78-4c4f-fd95-aa9de29ebd50"
      },
      "source": [
        "sv_grid_search.best_params_"
      ],
      "execution_count": null,
      "outputs": [
        {
          "output_type": "execute_result",
          "data": {
            "text/plain": [
              "{'degree': 2, 'gamma': 'scale', 'kernel': 'linear', 'tol': 0.1}"
            ]
          },
          "metadata": {
            "tags": []
          },
          "execution_count": 41
        }
      ]
    },
    {
      "cell_type": "code",
      "metadata": {
        "id": "4qJe8Sp-vcFT",
        "colab": {
          "base_uri": "https://localhost:8080/",
          "height": 53
        },
        "outputId": "4db2b9f2-abbb-4605-8480-9bf450b1e475"
      },
      "source": [
        "sv_grid_search.best_estimator_"
      ],
      "execution_count": null,
      "outputs": [
        {
          "output_type": "execute_result",
          "data": {
            "text/plain": [
              "SVR(C=1.0, cache_size=200, coef0=0.0, degree=2, epsilon=0.1, gamma='scale',\n",
              "    kernel='linear', max_iter=-1, shrinking=True, tol=0.1, verbose=False)"
            ]
          },
          "metadata": {
            "tags": []
          },
          "execution_count": 42
        }
      ]
    },
    {
      "cell_type": "code",
      "metadata": {
        "id": "guUDkw-nvf4e",
        "colab": {
          "base_uri": "https://localhost:8080/",
          "height": 287
        },
        "outputId": "995d85f7-8c8a-46bf-dd89-9b84bccc3fe9"
      },
      "source": [
        "sv_grid_train_pred, sv_mae_grid_train = predictions_and_mae(sv_grid_search.best_estimator_, X_train, y_train)\n",
        "print(\"The grid-search optimized random forest model's MAE on training data is:\", sv_mae_grid_train )\n",
        "\n",
        "plt.scatter(x=y_train, y=sv_grid_train_pred)\n",
        "plt.xlim([-10,100])\n",
        "plt.ylim([-10,100])\n",
        "plt.show()"
      ],
      "execution_count": null,
      "outputs": [
        {
          "output_type": "stream",
          "text": [
            "The grid-search optimized random forest model's MAE on training data is: 16.237814780820795\n"
          ],
          "name": "stdout"
        },
        {
          "output_type": "display_data",
          "data": {
            "image/png": "[encoded data removed]",
            "text/plain": [
              "<Figure size 432x288 with 1 Axes>"
            ]
          },
          "metadata": {
            "tags": [],
            "needs_background": "light"
          }
        }
      ]
    },
    {
      "cell_type": "markdown",
      "metadata": {
        "id": "jtmWPkElaZqB"
      },
      "source": [
        "## Random Forest"
      ]
    },
    {
      "cell_type": "markdown",
      "metadata": {
        "id": "gHYGDSyecitB"
      },
      "source": [
        "### Base Model"
      ]
    },
    {
      "cell_type": "code",
      "metadata": {
        "id": "nxK1q2wvchsE",
        "colab": {
          "base_uri": "https://localhost:8080/",
          "height": 143
        },
        "outputId": "4782c27e-6de7-4be2-ce78-9795ab972af1"
      },
      "source": [
        "# Creating and fitting the model with 10 trees\n",
        "rf_reg = RandomForestRegressor(n_estimators=10, random_state=RANDOM_STATE, criterion='mae')\n",
        "rf_reg.fit(X_train, y_train)"
      ],
      "execution_count": null,
      "outputs": [
        {
          "output_type": "execute_result",
          "data": {
            "text/plain": [
              "RandomForestRegressor(bootstrap=True, ccp_alpha=0.0, criterion='mae',\n",
              "                      max_depth=None, max_features='auto', max_leaf_nodes=None,\n",
              "                      max_samples=None, min_impurity_decrease=0.0,\n",
              "                      min_impurity_split=None, min_samples_leaf=1,\n",
              "                      min_samples_split=2, min_weight_fraction_leaf=0.0,\n",
              "                      n_estimators=10, n_jobs=None, oob_score=False,\n",
              "                      random_state=42, verbose=0, warm_start=False)"
            ]
          },
          "metadata": {
            "tags": []
          },
          "execution_count": 44
        }
      ]
    },
    {
      "cell_type": "code",
      "metadata": {
        "id": "NR5R4ph4ac_S",
        "colab": {
          "base_uri": "https://localhost:8080/",
          "height": 35
        },
        "outputId": "f295c50a-2e2f-42d8-f20b-017c98f623c9"
      },
      "source": [
        "rf_reg_scores = cross_val_score(rf_reg, X_train, y_train, cv=CROSS_VAL_FOLDS, scoring='neg_mean_absolute_error')\n",
        "print(\"Random Forest score: \", rf_reg_scores)"
      ],
      "execution_count": null,
      "outputs": [
        {
          "output_type": "stream",
          "text": [
            "Random Forest score:  [-20.3760274  -17.69634703 -19.98004587 -16.11284404 -17.09724771]\n"
          ],
          "name": "stdout"
        }
      ]
    },
    {
      "cell_type": "code",
      "metadata": {
        "id": "T6-64LojdVu-",
        "colab": {
          "base_uri": "https://localhost:8080/",
          "height": 35
        },
        "outputId": "f9c2f29d-3854-4d1c-d603-c4ac28c36208"
      },
      "source": [
        "print(\"The random forest model's MAE on training data is:\",  predictions_and_mae(rf_reg, X_train, y_train)[1])"
      ],
      "execution_count": null,
      "outputs": [
        {
          "output_type": "stream",
          "text": [
            "The random forest model's MAE on training data is: 6.9259615384615385\n"
          ],
          "name": "stdout"
        }
      ]
    },
    {
      "cell_type": "markdown",
      "metadata": {
        "id": "j11EHFh-gexL"
      },
      "source": [
        "### Grid Search"
      ]
    },
    {
      "cell_type": "markdown",
      "metadata": {
        "id": "0-XgjujLgneW"
      },
      "source": [
        "***Notes***\n",
        "\n",
        "\n",
        "---\n",
        "\n",
        "\n",
        "\n",
        "*   **n_estimators** is the number of trees in the RF. We will arbitarily try 2, 4, 8 and 10 trees.\n",
        "\n",
        "\n",
        "---\n",
        "\n",
        "\n",
        "*   **max_features** is the number of features considered for splitting at each leaf node. We will arbitarily try: 4, 8, and 12.\n",
        "(https://towardsdatascience.com/hyperparameter-tuning-the-random-forest-in-python-using-scikit-learn-28d2aa77dd74)"
      ]
    },
    {
      "cell_type": "markdown",
      "metadata": {
        "id": "uAiFYAHdgsKl"
      },
      "source": [
        "***Other Notes***\n",
        "\n",
        "---\n",
        "*   Since we are trying **four** different n_estimators (2, 4, 8, 10) with **three** different numbers of max_features, we have a combination of **twelve** hyperparameters\n",
        "---\n",
        "\n",
        "*   **Bootstrapping** is a resampling technique used to estimate statistics on a population by sampling a dataset with replacement. We will also try **twelve** combinations with bootstrap set to False.\n",
        "\n",
        "---\n",
        "\n",
        "*   Our hyperparameters will be trained across 5 folds (i.e., cross validation = 5), which means we will have 120 rounds of training [(12 original + 12 bootstrapping)*5]\n",
        "\n"
      ]
    },
    {
      "cell_type": "code",
      "metadata": {
        "id": "syMhsXgkGgCW"
      },
      "source": [
        "max_features = int(len(X_train.keys()))\n",
        "half_max_features = int(round(0.5*max_features))\n",
        "quarter_max_features = int(round(0.25*max_features))"
      ],
      "execution_count": null,
      "outputs": []
    },
    {
      "cell_type": "code",
      "metadata": {
        "id": "YblvrE7Qgh5c",
        "colab": {
          "base_uri": "https://localhost:8080/",
          "height": 377
        },
        "outputId": "473797c8-c1d9-470d-a7a1-656d8efe367e"
      },
      "source": [
        "rf_param_grid = {'n_estimators': [50, 100, 200,300,400,500],\n",
        "                 'bootstrap': [True, False],\n",
        "                 'max_features': [quarter_max_features, half_max_features, max_features],\n",
        "                 #'max_features': [2,4,6,8,10,12,14,16],\n",
        "                 'min_samples_leaf': [2,3,4,5,10],\n",
        "                 }\n",
        "\n",
        "rf_grid_search = GridSearchCV(RandomForestRegressor(random_state=RANDOM_STATE), rf_param_grid, cv=CROSS_VAL_FOLDS, scoring='neg_mean_absolute_error', return_train_score=True)\n",
        "rf_grid_search.fit(X_train, y_train)"
      ],
      "execution_count": null,
      "outputs": [
        {
          "output_type": "execute_result",
          "data": {
            "text/plain": [
              "GridSearchCV(cv=5, error_score=nan,\n",
              "             estimator=RandomForestRegressor(bootstrap=True, ccp_alpha=0.0,\n",
              "                                             criterion='mse', max_depth=None,\n",
              "                                             max_features='auto',\n",
              "                                             max_leaf_nodes=None,\n",
              "                                             max_samples=None,\n",
              "                                             min_impurity_decrease=0.0,\n",
              "                                             min_impurity_split=None,\n",
              "                                             min_samples_leaf=1,\n",
              "                                             min_samples_split=2,\n",
              "                                             min_weight_fraction_leaf=0.0,\n",
              "                                             n_estimators=100, n_jobs=None,\n",
              "                                             oob_score=False, random_state=42,\n",
              "                                             verbose=0, warm_start=False),\n",
              "             iid='deprecated', n_jobs=None,\n",
              "             param_grid={'bootstrap': [True, False], 'max_features': [4, 8, 16],\n",
              "                         'min_samples_leaf': [2, 3, 4, 5, 10],\n",
              "                         'n_estimators': [50, 100, 200, 300, 400, 500]},\n",
              "             pre_dispatch='2*n_jobs', refit=True, return_train_score=True,\n",
              "             scoring='neg_mean_absolute_error', verbose=0)"
            ]
          },
          "metadata": {
            "tags": []
          },
          "execution_count": 48
        }
      ]
    },
    {
      "cell_type": "markdown",
      "metadata": {
        "id": "p_DgdfQChZA1"
      },
      "source": [
        "### Grid Search Results"
      ]
    },
    {
      "cell_type": "code",
      "metadata": {
        "id": "XxDrLmExhcE1",
        "colab": {
          "base_uri": "https://localhost:8080/",
          "height": 89
        },
        "outputId": "99d13f88-73f2-4e9f-cbcb-bafbc5aca555"
      },
      "source": [
        "rf_grid_search.best_params_"
      ],
      "execution_count": null,
      "outputs": [
        {
          "output_type": "execute_result",
          "data": {
            "text/plain": [
              "{'bootstrap': False,\n",
              " 'max_features': 8,\n",
              " 'min_samples_leaf': 3,\n",
              " 'n_estimators': 500}"
            ]
          },
          "metadata": {
            "tags": []
          },
          "execution_count": 49
        }
      ]
    },
    {
      "cell_type": "code",
      "metadata": {
        "id": "8FiICUMgh3vO",
        "colab": {
          "base_uri": "https://localhost:8080/",
          "height": 143
        },
        "outputId": "2b93ce5b-0e34-4ada-a076-5aed781601c2"
      },
      "source": [
        "rf_grid_search.best_estimator_"
      ],
      "execution_count": null,
      "outputs": [
        {
          "output_type": "execute_result",
          "data": {
            "text/plain": [
              "RandomForestRegressor(bootstrap=False, ccp_alpha=0.0, criterion='mse',\n",
              "                      max_depth=None, max_features=8, max_leaf_nodes=None,\n",
              "                      max_samples=None, min_impurity_decrease=0.0,\n",
              "                      min_impurity_split=None, min_samples_leaf=3,\n",
              "                      min_samples_split=2, min_weight_fraction_leaf=0.0,\n",
              "                      n_estimators=500, n_jobs=None, oob_score=False,\n",
              "                      random_state=42, verbose=0, warm_start=False)"
            ]
          },
          "metadata": {
            "tags": []
          },
          "execution_count": 50
        }
      ]
    },
    {
      "cell_type": "code",
      "metadata": {
        "id": "tjT7IsCGnXpE",
        "colab": {
          "base_uri": "https://localhost:8080/",
          "height": 287
        },
        "outputId": "b5a5409b-d3bc-46cb-8ed0-fe3ae280d779"
      },
      "source": [
        "rf_grid_train_pred, mae_grid_train = predictions_and_mae(rf_grid_search.best_estimator_, X_train, y_train)\n",
        "print(\"The grid-search optimized random forest model's MAE on training data is:\", mae_grid_train )\n",
        "\n",
        "plt.scatter(x=y_train, y=rf_grid_train_pred)\n",
        "plt.xlim([-10,100])\n",
        "plt.ylim([-10,100])\n",
        "plt.show()"
      ],
      "execution_count": null,
      "outputs": [
        {
          "output_type": "stream",
          "text": [
            "The grid-search optimized random forest model's MAE on training data is: 3.848423260073256\n"
          ],
          "name": "stdout"
        },
        {
          "output_type": "display_data",
          "data": {
            "image/png": "[encoded data removed]",
            "text/plain": [
              "<Figure size 432x288 with 1 Axes>"
            ]
          },
          "metadata": {
            "tags": [],
            "needs_background": "light"
          }
        }
      ]
    },
    {
      "cell_type": "markdown",
      "metadata": {
        "id": "eB9ZFOiqg8q-"
      },
      "source": [
        "### Randomized Seach"
      ]
    },
    {
      "cell_type": "code",
      "metadata": {
        "id": "oR_8DqdBhC8s",
        "colab": {
          "base_uri": "https://localhost:8080/",
          "height": 71
        },
        "outputId": "665e83fe-c685-454e-ace6-62519ae4c409"
      },
      "source": [
        "rnd_max_depth = [int(x) for x in np.linspace(10, 110, num = 11)]\n",
        "rnd_max_depth.append(None)\n",
        "\n",
        "rf_param_rnd = {'n_estimators': [int(x) for x in np.linspace(start = 100, stop = 1000, num = 10)],\n",
        "                'bootstrap': [True, False],\n",
        "                'max_features': ['auto', 'sqrt'],\n",
        "                'min_samples_leaf': [1, 2, 3, 4, 5,6,7,8,9,10,20,30],\n",
        "                'max_depth': rnd_max_depth,\n",
        "                'min_samples_split': [2, 3, 4, 5, 6, 8, 10,15],\n",
        "                \n",
        "                 }\n",
        "\n",
        "rf_rnd_search = RandomizedSearchCV(RandomForestRegressor(random_state=RANDOM_STATE), rf_param_rnd, cv=CROSS_VAL_FOLDS, scoring='neg_mean_absolute_error', return_train_score=True)\n",
        "rf_rnd_search.fit(X_train, y_train)\n",
        "\n",
        "print(rf_rnd_search.best_params_)\n",
        "_, rnd_mae_grid_train = predictions_and_mae(rf_rnd_search.best_estimator_, X_train, y_train)\n",
        "print(\"The grid-search optimized random forest model's MAE on training data is:\", rnd_mae_grid_train )\n",
        "\n",
        "\n",
        "_, rnd_test_mae = predictions_and_mae(rf_rnd_search.best_estimator_, X_test, y_test)\n",
        "print(\"The best model's MAE on test data is:\",rnd_test_mae)"
      ],
      "execution_count": null,
      "outputs": [
        {
          "output_type": "stream",
          "text": [
            "{'n_estimators': 200, 'min_samples_split': 4, 'min_samples_leaf': 1, 'max_features': 'auto', 'max_depth': 70, 'bootstrap': True}\n",
            "The grid-search optimized random forest model's MAE on training data is: 6.028276686276686\n",
            "The best model's MAE on test data is: 17.28168084395763\n"
          ],
          "name": "stdout"
        }
      ]
    },
    {
      "cell_type": "markdown",
      "metadata": {
        "id": "Zeoiwcnpk_T5"
      },
      "source": [
        "## Best Model, Parameters, and Estimator\n",
        "* Assign the best model from the models and searches above here.\n",
        "* Input: \n",
        "  * **model's skitlearn name**, **___.best_params_** and **___.best_estimator_**\n",
        "  * Using **X_test, y_test** for looking how it does on test data.\n",
        "* Actions:\n",
        " * Assign best parameters and best estimators\n",
        "* Outputs:\n",
        " * **best_model**, **best_estimator**, **best_params**\n",
        " * For reference: Running the best_estimator on holdout test data (eg **X_test**)\n"
      ]
    },
    {
      "cell_type": "code",
      "metadata": {
        "id": "MtQtmdA9vL4S"
      },
      "source": [
        "# Change this if rf_grid was not the best choice here\n",
        "best_model_name = RandomForestRegressor\n",
        "best_estimator = rf_grid_search.best_estimator_\n",
        "best_params = rf_grid_search.best_params_\n",
        "best_param_grid = rf_param_grid  # Only to be used if re-doing feature importance (below)"
      ],
      "execution_count": null,
      "outputs": []
    },
    {
      "cell_type": "markdown",
      "metadata": {
        "id": "Hj-g97-6zWjg"
      },
      "source": [
        "### Best Estimator's Performance on Test Data"
      ]
    },
    {
      "cell_type": "code",
      "metadata": {
        "id": "3VlXBwjylKaA",
        "colab": {
          "base_uri": "https://localhost:8080/",
          "height": 287
        },
        "outputId": "ff8e205e-bea1-4138-fab6-8e7c72303fc7"
      },
      "source": [
        "y_test_pred, test_mae = predictions_and_mae(best_estimator, X_test, y_test)\n",
        "\n",
        "print(\"The best model's MAE on test data is:\",test_mae)\n",
        "\n",
        "plt.scatter(x=y_test, y=y_test_pred)\n",
        "plt.xlim([-10,100])\n",
        "plt.ylim([-10,100])\n",
        "plt.show()"
      ],
      "execution_count": null,
      "outputs": [
        {
          "output_type": "stream",
          "text": [
            "The best model's MAE on test data is: 16.00112335164835\n"
          ],
          "name": "stdout"
        },
        {
          "output_type": "display_data",
          "data": {
            "image/png": "[encoded data removed]",
            "text/plain": [
              "<Figure size 432x288 with 1 Axes>"
            ]
          },
          "metadata": {
            "tags": [],
            "needs_background": "light"
          }
        }
      ]
    },
    {
      "cell_type": "markdown",
      "metadata": {
        "id": "FZbrFgxtO66W"
      },
      "source": [
        "## Feature Importance Revisited"
      ]
    },
    {
      "cell_type": "markdown",
      "metadata": {
        "id": "IfmBTcbtS7lS"
      },
      "source": [
        "### Re-run feature importances"
      ]
    },
    {
      "cell_type": "markdown",
      "metadata": {
        "id": "mL2ZMW5dSYAj"
      },
      "source": [
        "Re-run Feature importance. Try to see if using less features will help the overfitting."
      ]
    },
    {
      "cell_type": "code",
      "metadata": {
        "id": "_BVo3j1pPz-k",
        "colab": {
          "base_uri": "https://localhost:8080/",
          "height": 545
        },
        "outputId": "c3a5b86e-d888-4edb-b1d4-6a08925e5f83"
      },
      "source": [
        "# This shows that approx n=12 features suffices for >90% of the importance.\n",
        "most_important_feature_list=show_feature_importance(X_train,y_train, most_important_n=12, print_all=True, params_dict=best_params)"
      ],
      "execution_count": null,
      "outputs": [
        {
          "output_type": "display_data",
          "data": {
            "text/html": [
              "<div>\n",
              "<style scoped>\n",
              "    .dataframe tbody tr th:only-of-type {\n",
              "        vertical-align: middle;\n",
              "    }\n",
              "\n",
              "    .dataframe tbody tr th {\n",
              "        vertical-align: top;\n",
              "    }\n",
              "\n",
              "    .dataframe thead th {\n",
              "        text-align: right;\n",
              "    }\n",
              "</style>\n",
              "<table border=\"1\" class=\"dataframe\">\n",
              "  <thead>\n",
              "    <tr style=\"text-align: right;\">\n",
              "      <th></th>\n",
              "      <th>Feature</th>\n",
              "      <th>Importance</th>\n",
              "      <th>Cumulative Importance</th>\n",
              "    </tr>\n",
              "  </thead>\n",
              "  <tbody>\n",
              "    <tr>\n",
              "      <th>1</th>\n",
              "      <td>ndvi_sw</td>\n",
              "      <td>0.199906</td>\n",
              "      <td>0.199906</td>\n",
              "    </tr>\n",
              "    <tr>\n",
              "      <th>2</th>\n",
              "      <td>ndvi_nw</td>\n",
              "      <td>0.128117</td>\n",
              "      <td>0.328023</td>\n",
              "    </tr>\n",
              "    <tr>\n",
              "      <th>3</th>\n",
              "      <td>cos_yearofdecade</td>\n",
              "      <td>0.118700</td>\n",
              "      <td>0.446723</td>\n",
              "    </tr>\n",
              "    <tr>\n",
              "      <th>4</th>\n",
              "      <td>cos_weekofyear</td>\n",
              "      <td>0.093200</td>\n",
              "      <td>0.539924</td>\n",
              "    </tr>\n",
              "    <tr>\n",
              "      <th>5</th>\n",
              "      <td>reanalysis_min_air_temp_k</td>\n",
              "      <td>0.091278</td>\n",
              "      <td>0.631202</td>\n",
              "    </tr>\n",
              "    <tr>\n",
              "      <th>6</th>\n",
              "      <td>reanalysis_dew_point_temp_k</td>\n",
              "      <td>0.060255</td>\n",
              "      <td>0.691456</td>\n",
              "    </tr>\n",
              "    <tr>\n",
              "      <th>7</th>\n",
              "      <td>reanalysis_specific_humidity_g_per_kg</td>\n",
              "      <td>0.053364</td>\n",
              "      <td>0.744820</td>\n",
              "    </tr>\n",
              "    <tr>\n",
              "      <th>8</th>\n",
              "      <td>reanalysis_tdtr_k</td>\n",
              "      <td>0.045731</td>\n",
              "      <td>0.790551</td>\n",
              "    </tr>\n",
              "    <tr>\n",
              "      <th>9</th>\n",
              "      <td>ndvi_se</td>\n",
              "      <td>0.041693</td>\n",
              "      <td>0.832244</td>\n",
              "    </tr>\n",
              "    <tr>\n",
              "      <th>10</th>\n",
              "      <td>ndvi_ne</td>\n",
              "      <td>0.032928</td>\n",
              "      <td>0.865172</td>\n",
              "    </tr>\n",
              "    <tr>\n",
              "      <th>11</th>\n",
              "      <td>reanalysis_sat_precip_amt_mm</td>\n",
              "      <td>0.026386</td>\n",
              "      <td>0.891558</td>\n",
              "    </tr>\n",
              "    <tr>\n",
              "      <th>12</th>\n",
              "      <td>reanalysis_avg_temp_k</td>\n",
              "      <td>0.026004</td>\n",
              "      <td>0.917562</td>\n",
              "    </tr>\n",
              "    <tr>\n",
              "      <th>13</th>\n",
              "      <td>reanalysis_max_air_temp_k</td>\n",
              "      <td>0.024742</td>\n",
              "      <td>0.942304</td>\n",
              "    </tr>\n",
              "    <tr>\n",
              "      <th>14</th>\n",
              "      <td>reanalysis_relative_humidity_percent</td>\n",
              "      <td>0.023342</td>\n",
              "      <td>0.965647</td>\n",
              "    </tr>\n",
              "    <tr>\n",
              "      <th>15</th>\n",
              "      <td>reanalysis_precip_amt_kg_per_m2</td>\n",
              "      <td>0.021268</td>\n",
              "      <td>0.986915</td>\n",
              "    </tr>\n",
              "    <tr>\n",
              "      <th>16</th>\n",
              "      <td>x0_sj</td>\n",
              "      <td>0.013085</td>\n",
              "      <td>1.000000</td>\n",
              "    </tr>\n",
              "  </tbody>\n",
              "</table>\n",
              "</div>"
            ],
            "text/plain": [
              "                                  Feature  Importance  Cumulative Importance\n",
              "1                                 ndvi_sw    0.199906               0.199906\n",
              "2                                 ndvi_nw    0.128117               0.328023\n",
              "3                        cos_yearofdecade    0.118700               0.446723\n",
              "4                          cos_weekofyear    0.093200               0.539924\n",
              "5               reanalysis_min_air_temp_k    0.091278               0.631202\n",
              "6             reanalysis_dew_point_temp_k    0.060255               0.691456\n",
              "7   reanalysis_specific_humidity_g_per_kg    0.053364               0.744820\n",
              "8                       reanalysis_tdtr_k    0.045731               0.790551\n",
              "9                                 ndvi_se    0.041693               0.832244\n",
              "10                                ndvi_ne    0.032928               0.865172\n",
              "11           reanalysis_sat_precip_amt_mm    0.026386               0.891558\n",
              "12                  reanalysis_avg_temp_k    0.026004               0.917562\n",
              "13              reanalysis_max_air_temp_k    0.024742               0.942304\n",
              "14   reanalysis_relative_humidity_percent    0.023342               0.965647\n",
              "15        reanalysis_precip_amt_kg_per_m2    0.021268               0.986915\n",
              "16                                  x0_sj    0.013085               1.000000"
            ]
          },
          "metadata": {
            "tags": []
          }
        }
      ]
    },
    {
      "cell_type": "markdown",
      "metadata": {
        "id": "r852b9sVS-MB"
      },
      "source": [
        "### Feature Optimized Best Model\n"
      ]
    },
    {
      "cell_type": "markdown",
      "metadata": {
        "id": "jiVhWNB-p1yo"
      },
      "source": [
        "* Using the most_important_feature_list and the best model, re-run the entire analyis\n",
        "* needed to create new X,y train,test, competitonwith dropped unimportant features\n",
        "* needed to run train /test split\n",
        "* ran the grid_search on train\n",
        "* did some output, analogous to what was one after \"Best Model\""
      ]
    },
    {
      "cell_type": "code",
      "metadata": {
        "id": "iIFrri3tU94N",
        "colab": {
          "base_uri": "https://localhost:8080/",
          "height": 557
        },
        "outputId": "bdd8d0be-bc90-47a3-d419-7019a1b316ce"
      },
      "source": [
        "# Features \n",
        "feature_opt_passthru_attribs = most_important_feature_list\n",
        "\n",
        "# Pipeline\n",
        "feature_opt_pipeline = ColumnTransformer([\n",
        "                                          (\"passthru\",'passthrough', feature_opt_passthru_attribs),\n",
        "                                          ],\n",
        "                                         remainder='drop'\n",
        "                                         )\n",
        "feature_opt_pipeline.fit(X_prep)\n",
        "feature_opt_pipeline_cols = get_column_names_from_ColumnTransformer(feature_opt_pipeline)\n",
        "\n",
        "\n",
        "feature_opt_X_prep = pd.DataFrame(feature_opt_pipeline.transform(X_prep), columns=feature_opt_pipeline_cols)\n",
        "feature_opt_X_prep.index = np.arange(1, len(feature_opt_X_prep) + 1)\n",
        "feature_opt_y_prep = y # no need to deep copy, no changes were made\n",
        "\n",
        "if not (USE_PREV_CASES):\n",
        "  feature_opt_competition_X_prep = pd.DataFrame(feature_opt_pipeline.transform(competition_X_prep), columns=feature_opt_pipeline_cols)\n",
        "  feature_opt_competition_y_prep = competition_y #no need to deep copy, no changes were made\n",
        "\n",
        "# Train Test Split\n",
        "feature_opt_X_train, feature_opt_X_test, feature_opt_y_train, feature_opt_y_test = train_test_split(feature_opt_X_prep,feature_opt_y_prep['total_cases'],test_size=TEST_SIZE,random_state=RANDOM_STATE)\n",
        "\n",
        "# Model Fitting\n",
        "feature_opt_model_name = best_model_name\n",
        "max_features = int(len(feature_opt_X_train.keys()))\n",
        "half_max_features = int(round(0.5*max_features))\n",
        "quarter_max_features = int(round(0.25*max_features))\n",
        "\n",
        "\n",
        "feature_opt_param_grid = {'n_estimators': [50, 100, 200,300],\n",
        "                 'bootstrap': [False],\n",
        "                 'max_features': [quarter_max_features, half_max_features, max_features],\n",
        "                 'min_samples_leaf': [2,3,4],\n",
        "                 }\n",
        "\n",
        "feature_opt_grid_search =  GridSearchCV(feature_opt_model_name(random_state=RANDOM_STATE), feature_opt_param_grid, cv=CROSS_VAL_FOLDS, scoring='neg_mean_squared_error', return_train_score=True)\n",
        "feature_opt_grid_search.fit(feature_opt_X_train, feature_opt_y_train)\n",
        "\n",
        "feature_opt_estimator = feature_opt_grid_search.best_estimator_\n",
        "feature_opt_params = feature_opt_grid_search.best_params_\n",
        "\n",
        "feature_opt_grid_train_pred, feature_opt_mae_grid_train = predictions_and_mae(feature_opt_grid_search.best_estimator_, feature_opt_X_train, feature_opt_y_train)\n",
        "print(\"The feature optimized best model grid-search's MAE on training data is:\", feature_opt_mae_grid_train )\n",
        "\n",
        "plt.scatter(x= feature_opt_y_train, y= feature_opt_grid_train_pred)\n",
        "plt.xlim([-10,100])\n",
        "plt.ylim([-10,100])\n",
        "plt.show()\n",
        "\n",
        "feature_opt_y_test_pred, feature_opt_test_mae = predictions_and_mae(feature_opt_grid_search.best_estimator_, feature_opt_X_test, feature_opt_y_test)\n",
        "\n",
        "print(\"The best model's MAE on test data is:\",feature_opt_test_mae)\n",
        "plt.scatter(x= feature_opt_y_test, y= feature_opt_y_test_pred)\n",
        "plt.xlim([-10,100])\n",
        "plt.ylim([-10,100])\n",
        "plt.show()"
      ],
      "execution_count": null,
      "outputs": [
        {
          "output_type": "stream",
          "text": [
            "The feature optimized best model grid-search's MAE on training data is: 2.060927960927961\n"
          ],
          "name": "stdout"
        },
        {
          "output_type": "display_data",
          "data": {
            "image/png": "[encoded data removed]",
            "text/plain": [
              "<Figure size 432x288 with 1 Axes>"
            ]
          },
          "metadata": {
            "tags": [],
            "needs_background": "light"
          }
        },
        {
          "output_type": "stream",
          "text": [
            "The best model's MAE on test data is: 15.766132478632482\n"
          ],
          "name": "stdout"
        },
        {
          "output_type": "display_data",
          "data": {
            "image/png": "[encoded data removed]",
            "text/plain": [
              "<Figure size 432x288 with 1 Axes>"
            ]
          },
          "metadata": {
            "tags": [],
            "needs_background": "light"
          }
        }
      ]
    },
    {
      "cell_type": "markdown",
      "metadata": {
        "id": "1iMJNfT5wfQt"
      },
      "source": [
        "## Final Estimator\n",
        "* Use the the best parameters and create the final estimator using the full X data.\n",
        "\n",
        "**INPUT**\n",
        "* Input:\n",
        " * **best_model_name**, **best_params** (or feature optimized ones)\n",
        " * **X_prep**,**y_prep** (or feature optimized ones with dropped features)\n",
        "* Actions:\n",
        " * Does a Fit to create the final_estimator\n",
        "* Outputs:\n",
        " * **final_estimator**\n",
        " * For reference: Running the final_estimator on full training data, eg **X_prep** and **y_prep['total_cases']** (or feature dropped-version)\n"
      ]
    },
    {
      "cell_type": "code",
      "metadata": {
        "id": "sTrfCiPkwk2v"
      },
      "source": [
        "if USE_FEATURE_IMPORTANCE:\n",
        "  final_model_name = feature_opt_model_name\n",
        "  final_params = feature_opt_params\n",
        "  final_X_prep = feature_opt_X_prep\n",
        "  final_y_prep = feature_opt_y_prep\n",
        "  if not USE_PREV_CASES:\n",
        "    final_competition_X_prep = feature_opt_competition_X_prep\n",
        "    final_competition_y_prep = feature_opt_competition_y_prep\n",
        "else:\n",
        "  final_model_name = best_model_name\n",
        "  final_params = best_params\n",
        "  final_X_prep = X_prep\n",
        "  final_y_prep = y_prep\n",
        "  if not USE_PREV_CASES:\n",
        "    final_competition_X_prep = competition_X_prep\n",
        "    final_competition_y_prep = competition_y_prep"
      ],
      "execution_count": null,
      "outputs": []
    },
    {
      "cell_type": "code",
      "metadata": {
        "id": "2P1ADnGBgUvY"
      },
      "source": [
        "\n",
        "final_model = final_model_name(**final_params)\n",
        "final_estimator = final_model.fit(final_X_prep,final_y_prep['total_cases'])"
      ],
      "execution_count": null,
      "outputs": []
    },
    {
      "cell_type": "markdown",
      "metadata": {
        "id": "Dsy6xUlT6MBD"
      },
      "source": [
        "## Final Estimator's Performance on Full Training Data"
      ]
    },
    {
      "cell_type": "code",
      "metadata": {
        "id": "Sh-6M7hpyfUJ",
        "colab": {
          "base_uri": "https://localhost:8080/",
          "height": 287
        },
        "outputId": "52506146-2dee-41ea-e7bd-70ea8cd6d70f"
      },
      "source": [
        "y_full_train_pred, full_train_mae = predictions_and_mae(final_estimator, final_X_prep,final_y_prep['total_cases'])\n",
        "print(\"The final model's MAE on full training data is:\",  full_train_mae)\n",
        "\n",
        "plt.scatter(x=final_y_prep['total_cases'], y=y_full_train_pred)\n",
        "plt.xlim([-10,100])\n",
        "plt.ylim([-10,100])\n",
        "plt.show()"
      ],
      "execution_count": null,
      "outputs": [
        {
          "output_type": "stream",
          "text": [
            "The final model's MAE on full training data is: 3.969370695970691\n"
          ],
          "name": "stdout"
        },
        {
          "output_type": "display_data",
          "data": {
            "image/png": "[encoded data removed]",
            "text/plain": [
              "<Figure size 432x288 with 1 Axes>"
            ]
          },
          "metadata": {
            "tags": [],
            "needs_background": "light"
          }
        }
      ]
    },
    {
      "cell_type": "markdown",
      "metadata": {
        "id": "hLaouhrTCQkz"
      },
      "source": [
        "# Analyze Competition Results\n",
        "* Generate the competition submission using the Final Model\n",
        "* Input: \n",
        "  * **final_estimator**, **competition_X_prep** and **competition_y_prep**  \n",
        "* Actions:\n",
        " * Generate the predictions of total cases using\n",
        "* Outputs:\n",
        " * **y_competition_pred**\n",
        " * intermediate: **submission_df** (dataframe in the format of the submission output)\n",
        " * final: [Optional] GoogleSheets export to submit to DataDriven.Org\n"
      ]
    },
    {
      "cell_type": "markdown",
      "metadata": {
        "id": "Oo0W8m1StPWi"
      },
      "source": [
        "## Use Final Estimator on Competition Data"
      ]
    },
    {
      "cell_type": "code",
      "metadata": {
        "id": "jR7CVeQEtOVJ"
      },
      "source": [
        "if not USE_PREV_CASES:\n",
        "  y_competition_pred,_ = predictions_and_mae(final_estimator, final_competition_X_prep, final_competition_y_prep['total_cases'])\n"
      ],
      "execution_count": null,
      "outputs": []
    },
    {
      "cell_type": "markdown",
      "metadata": {
        "id": "8OWqNYzDJeB5"
      },
      "source": [
        "## Generate Submission Format"
      ]
    },
    {
      "cell_type": "code",
      "metadata": {
        "id": "YYN5UAN7GQQP"
      },
      "source": [
        "submission_df = competition_y.copy()\n",
        "if not USE_PREV_CASES:\n",
        "  submission_df['total_cases'] = y_competition_pred\n",
        "  submission_df['total_cases'] = submission_df['total_cases'].astype(int)"
      ],
      "execution_count": null,
      "outputs": []
    },
    {
      "cell_type": "code",
      "metadata": {
        "id": "YnLsl4CE6aj0",
        "colab": {
          "base_uri": "https://localhost:8080/",
          "height": 419
        },
        "outputId": "34636ecc-1f8d-4238-f79e-2fde382b597c"
      },
      "source": [
        "submission_df"
      ],
      "execution_count": null,
      "outputs": [
        {
          "output_type": "execute_result",
          "data": {
            "text/html": [
              "<div>\n",
              "<style scoped>\n",
              "    .dataframe tbody tr th:only-of-type {\n",
              "        vertical-align: middle;\n",
              "    }\n",
              "\n",
              "    .dataframe tbody tr th {\n",
              "        vertical-align: top;\n",
              "    }\n",
              "\n",
              "    .dataframe thead th {\n",
              "        text-align: right;\n",
              "    }\n",
              "</style>\n",
              "<table border=\"1\" class=\"dataframe\">\n",
              "  <thead>\n",
              "    <tr style=\"text-align: right;\">\n",
              "      <th></th>\n",
              "      <th>city</th>\n",
              "      <th>year</th>\n",
              "      <th>weekofyear</th>\n",
              "      <th>total_cases</th>\n",
              "    </tr>\n",
              "  </thead>\n",
              "  <tbody>\n",
              "    <tr>\n",
              "      <th>1</th>\n",
              "      <td>sj</td>\n",
              "      <td>2008</td>\n",
              "      <td>18</td>\n",
              "      <td>9</td>\n",
              "    </tr>\n",
              "    <tr>\n",
              "      <th>2</th>\n",
              "      <td>sj</td>\n",
              "      <td>2008</td>\n",
              "      <td>19</td>\n",
              "      <td>11</td>\n",
              "    </tr>\n",
              "    <tr>\n",
              "      <th>3</th>\n",
              "      <td>sj</td>\n",
              "      <td>2008</td>\n",
              "      <td>20</td>\n",
              "      <td>19</td>\n",
              "    </tr>\n",
              "    <tr>\n",
              "      <th>4</th>\n",
              "      <td>sj</td>\n",
              "      <td>2008</td>\n",
              "      <td>21</td>\n",
              "      <td>18</td>\n",
              "    </tr>\n",
              "    <tr>\n",
              "      <th>5</th>\n",
              "      <td>sj</td>\n",
              "      <td>2008</td>\n",
              "      <td>22</td>\n",
              "      <td>18</td>\n",
              "    </tr>\n",
              "    <tr>\n",
              "      <th>...</th>\n",
              "      <td>...</td>\n",
              "      <td>...</td>\n",
              "      <td>...</td>\n",
              "      <td>...</td>\n",
              "    </tr>\n",
              "    <tr>\n",
              "      <th>412</th>\n",
              "      <td>iq</td>\n",
              "      <td>2013</td>\n",
              "      <td>22</td>\n",
              "      <td>3</td>\n",
              "    </tr>\n",
              "    <tr>\n",
              "      <th>413</th>\n",
              "      <td>iq</td>\n",
              "      <td>2013</td>\n",
              "      <td>23</td>\n",
              "      <td>1</td>\n",
              "    </tr>\n",
              "    <tr>\n",
              "      <th>414</th>\n",
              "      <td>iq</td>\n",
              "      <td>2013</td>\n",
              "      <td>24</td>\n",
              "      <td>1</td>\n",
              "    </tr>\n",
              "    <tr>\n",
              "      <th>415</th>\n",
              "      <td>iq</td>\n",
              "      <td>2013</td>\n",
              "      <td>25</td>\n",
              "      <td>1</td>\n",
              "    </tr>\n",
              "    <tr>\n",
              "      <th>416</th>\n",
              "      <td>iq</td>\n",
              "      <td>2013</td>\n",
              "      <td>26</td>\n",
              "      <td>1</td>\n",
              "    </tr>\n",
              "  </tbody>\n",
              "</table>\n",
              "<p>416 rows × 4 columns</p>\n",
              "</div>"
            ],
            "text/plain": [
              "0   city  year  weekofyear  total_cases\n",
              "1     sj  2008          18            9\n",
              "2     sj  2008          19           11\n",
              "3     sj  2008          20           19\n",
              "4     sj  2008          21           18\n",
              "5     sj  2008          22           18\n",
              "..   ...   ...         ...          ...\n",
              "412   iq  2013          22            3\n",
              "413   iq  2013          23            1\n",
              "414   iq  2013          24            1\n",
              "415   iq  2013          25            1\n",
              "416   iq  2013          26            1\n",
              "\n",
              "[416 rows x 4 columns]"
            ]
          },
          "metadata": {
            "tags": []
          },
          "execution_count": 62
        }
      ]
    },
    {
      "cell_type": "code",
      "metadata": {
        "id": "KmvtWPivKVd4",
        "colab": {
          "base_uri": "https://localhost:8080/",
          "height": 211
        },
        "outputId": "dcb566e4-3670-4414-b3f3-4960f4981cac"
      },
      "source": [
        "#prediction for city SJ submission\n",
        "subm_sj = submission_df[submission_df['city']=='sj']\n",
        "plt.figure(figsize=(30,3))\n",
        "plt.plot(subm_sj.index, subm_sj['total_cases'])\n",
        "plt.show()"
      ],
      "execution_count": null,
      "outputs": [
        {
          "output_type": "display_data",
          "data": {
            "image/png": "[encoded data removed]",
            "text/plain": [
              "<Figure size 2160x216 with 1 Axes>"
            ]
          },
          "metadata": {
            "tags": [],
            "needs_background": "light"
          }
        }
      ]
    },
    {
      "cell_type": "code",
      "metadata": {
        "id": "8ga97NRfMfzS",
        "colab": {
          "base_uri": "https://localhost:8080/",
          "height": 211
        },
        "outputId": "de3c701f-8993-44f1-c989-c9f4317d4a0c"
      },
      "source": [
        "#prediction for city IQ submission\n",
        "subm_iq = submission_df[submission_df['city']=='iq']\n",
        "plt.figure(figsize=(30,3))\n",
        "plt.plot(subm_iq.index, subm_iq['total_cases'])\n",
        "plt.show()"
      ],
      "execution_count": null,
      "outputs": [
        {
          "output_type": "display_data",
          "data": {
            "image/png": "[encoded data removed]",
            "text/plain": [
              "<Figure size 2160x216 with 1 Axes>"
            ]
          },
          "metadata": {
            "tags": [],
            "needs_background": "light"
          }
        }
      ]
    },
    {
      "cell_type": "markdown",
      "metadata": {
        "id": "fBlVPiyW2pPb"
      },
      "source": [
        "## Write to Google Sheet"
      ]
    },
    {
      "cell_type": "markdown",
      "metadata": {
        "id": "80ZmhApz6rjX"
      },
      "source": [
        "Note that this writes to your Google Drive's root folder"
      ]
    },
    {
      "cell_type": "code",
      "metadata": {
        "id": "WdFWDP-j2uAF"
      },
      "source": [
        "if EXPORT_RESULT_TO_GSHEET:\n",
        "  write_df_to_gsheet(COMPETITION_RESULTS_OUTPUT_NAME,submission_df)"
      ],
      "execution_count": null,
      "outputs": []
    },
    {
      "cell_type": "markdown",
      "metadata": {
        "id": "s-qwi4UyPIuq"
      },
      "source": [
        "# Bonus Section\n",
        "* Use the predictions above to generate labels (cases) without relying on previous week's cases (lookback), and feed it into a 2nd model that was trained to use previous week's labels.\n",
        "## Steps\n",
        "* train a 2nd model that uses lookback (Model 2)\n",
        "* use the competition predictions above (y_competition_pred from Model 1)\n",
        "* shift it by 1 week and merge with the X to generate a new X\n",
        "* train a model using this new X (Model 2)\n",
        "* Now predict new y's after Model 2"
      ]
    },
    {
      "cell_type": "markdown",
      "metadata": {
        "id": "mb8GwQFdAVwo"
      },
      "source": [
        "### Train the Lookback Model using the full training set (no split)"
      ]
    },
    {
      "cell_type": "code",
      "metadata": {
        "id": "ag7bnw9Ap1u-"
      },
      "source": [
        "lookback_train_X = X_prep.copy()\n",
        "lookback_train_y = y_prep\n",
        "\n",
        "lookback_train_X.index  = np.arange(1, len(lookback_train_X) + 1)\n",
        "lookback_train_X['previous_cases'] = lookback_train_y['total_cases']\n",
        "lookback_train_X['previous_cases']= lookback_train_X['previous_cases'].shift(periods=1)\n",
        "lookback_train_X.at[1,'previous_cases']=lookback_train_X['previous_cases'][2]\n",
        "\n",
        "\n",
        "# Model Fitting\n",
        "lookback_model_name = best_model_name\n",
        "max_features = int(len(lookback_train_X.keys()))\n",
        "half_max_features = int(round(0.5*max_features))\n",
        "quarter_max_features = int(round(0.25*max_features))\n",
        "\n",
        "lookback_param_grid = {'n_estimators': [50, 100, 200,300],\n",
        "                 'bootstrap': [False],\n",
        "                 'max_features': [quarter_max_features, half_max_features, max_features],\n",
        "                 'min_samples_leaf': [2,3,4],\n",
        "                 }\n",
        "\n",
        "lookback_grid_search =  GridSearchCV(lookback_model_name(random_state=RANDOM_STATE), lookback_param_grid, cv=CROSS_VAL_FOLDS, scoring='neg_mean_squared_error', return_train_score=True)\n",
        "lookback_grid_search.fit(lookback_train_X, lookback_train_y['total_cases'])\n",
        "\n",
        "lookback_estimator = lookback_grid_search.best_estimator_\n",
        "lookback_params = lookback_grid_search.best_params_"
      ],
      "execution_count": null,
      "outputs": []
    },
    {
      "cell_type": "markdown",
      "metadata": {
        "id": "DSRR4kN2Absu"
      },
      "source": [
        "### Create a test set for the Lookback model using predictions from RF earlier (no lookback)"
      ]
    },
    {
      "cell_type": "code",
      "metadata": {
        "id": "FMpGCi7J9TXV"
      },
      "source": [
        "lookback_test_X = final_competition_X_prep.copy()\n",
        "lookback_test_X.index  = np.arange(1, len(lookback_test_X) + 1)\n",
        "\n",
        "lookback_test_X['previous_cases'] = y_competition_pred\n",
        "lookback_test_X['previous_cases']= lookback_test_X['previous_cases'].shift(periods=1)\n",
        "lookback_test_X.at[1,'previous_cases']=lookback_test_X['previous_cases'][2]"
      ],
      "execution_count": null,
      "outputs": []
    },
    {
      "cell_type": "code",
      "metadata": {
        "id": "R4o0eRfsA1hi",
        "colab": {
          "base_uri": "https://localhost:8080/"
        },
        "outputId": "b2f1a5c8-1198-4a16-e00a-131db8fffedf"
      },
      "source": [
        "lookback_test_X.head()"
      ],
      "execution_count": null,
      "outputs": [
        {
          "output_type": "execute_result",
          "data": {
            "text/html": [
              "<div>\n",
              "<style scoped>\n",
              "    .dataframe tbody tr th:only-of-type {\n",
              "        vertical-align: middle;\n",
              "    }\n",
              "\n",
              "    .dataframe tbody tr th {\n",
              "        vertical-align: top;\n",
              "    }\n",
              "\n",
              "    .dataframe thead th {\n",
              "        text-align: right;\n",
              "    }\n",
              "</style>\n",
              "<table border=\"1\" class=\"dataframe\">\n",
              "  <thead>\n",
              "    <tr style=\"text-align: right;\">\n",
              "      <th></th>\n",
              "      <th>x0_sj</th>\n",
              "      <th>reanalysis_avg_temp_k</th>\n",
              "      <th>reanalysis_dew_point_temp_k</th>\n",
              "      <th>reanalysis_max_air_temp_k</th>\n",
              "      <th>reanalysis_min_air_temp_k</th>\n",
              "      <th>reanalysis_precip_amt_kg_per_m2</th>\n",
              "      <th>reanalysis_relative_humidity_percent</th>\n",
              "      <th>reanalysis_sat_precip_amt_mm</th>\n",
              "      <th>reanalysis_specific_humidity_g_per_kg</th>\n",
              "      <th>reanalysis_tdtr_k</th>\n",
              "      <th>cos_weekofyear</th>\n",
              "      <th>cos_yearofdecade</th>\n",
              "      <th>ndvi_ne</th>\n",
              "      <th>ndvi_nw</th>\n",
              "      <th>ndvi_se</th>\n",
              "      <th>ndvi_sw</th>\n",
              "      <th>previous_cases</th>\n",
              "    </tr>\n",
              "  </thead>\n",
              "  <tbody>\n",
              "    <tr>\n",
              "      <th>1</th>\n",
              "      <td>1.0</td>\n",
              "      <td>298.550000</td>\n",
              "      <td>294.527143</td>\n",
              "      <td>301.1</td>\n",
              "      <td>296.4</td>\n",
              "      <td>25.37</td>\n",
              "      <td>78.781429</td>\n",
              "      <td>78.6000</td>\n",
              "      <td>15.918571</td>\n",
              "      <td>3.128571</td>\n",
              "      <td>-0.533823</td>\n",
              "      <td>1.0</td>\n",
              "      <td>-0.018900</td>\n",
              "      <td>-0.018900</td>\n",
              "      <td>0.102729</td>\n",
              "      <td>0.091200</td>\n",
              "      <td>9.437000</td>\n",
              "    </tr>\n",
              "    <tr>\n",
              "      <th>2</th>\n",
              "      <td>1.0</td>\n",
              "      <td>298.557143</td>\n",
              "      <td>294.395714</td>\n",
              "      <td>300.8</td>\n",
              "      <td>296.7</td>\n",
              "      <td>21.83</td>\n",
              "      <td>78.230000</td>\n",
              "      <td>12.5600</td>\n",
              "      <td>15.791429</td>\n",
              "      <td>2.571429</td>\n",
              "      <td>-0.630088</td>\n",
              "      <td>1.0</td>\n",
              "      <td>-0.018000</td>\n",
              "      <td>-0.012400</td>\n",
              "      <td>0.082043</td>\n",
              "      <td>0.072314</td>\n",
              "      <td>9.437000</td>\n",
              "    </tr>\n",
              "    <tr>\n",
              "      <th>3</th>\n",
              "      <td>1.0</td>\n",
              "      <td>299.357143</td>\n",
              "      <td>295.308571</td>\n",
              "      <td>302.2</td>\n",
              "      <td>296.4</td>\n",
              "      <td>4.12</td>\n",
              "      <td>78.270000</td>\n",
              "      <td>3.6600</td>\n",
              "      <td>16.674286</td>\n",
              "      <td>4.428571</td>\n",
              "      <td>-0.717507</td>\n",
              "      <td>1.0</td>\n",
              "      <td>-0.001500</td>\n",
              "      <td>-0.002833</td>\n",
              "      <td>0.151083</td>\n",
              "      <td>0.091529</td>\n",
              "      <td>11.653600</td>\n",
              "    </tr>\n",
              "    <tr>\n",
              "      <th>4</th>\n",
              "      <td>1.0</td>\n",
              "      <td>299.728571</td>\n",
              "      <td>294.402857</td>\n",
              "      <td>303.0</td>\n",
              "      <td>296.9</td>\n",
              "      <td>2.20</td>\n",
              "      <td>73.015714</td>\n",
              "      <td>22.0375</td>\n",
              "      <td>15.775714</td>\n",
              "      <td>4.342857</td>\n",
              "      <td>-0.794854</td>\n",
              "      <td>1.0</td>\n",
              "      <td>-0.001675</td>\n",
              "      <td>-0.019867</td>\n",
              "      <td>0.124329</td>\n",
              "      <td>0.125686</td>\n",
              "      <td>19.340167</td>\n",
              "    </tr>\n",
              "    <tr>\n",
              "      <th>5</th>\n",
              "      <td>1.0</td>\n",
              "      <td>299.671429</td>\n",
              "      <td>294.760000</td>\n",
              "      <td>302.3</td>\n",
              "      <td>297.3</td>\n",
              "      <td>4.36</td>\n",
              "      <td>74.084286</td>\n",
              "      <td>0.7600</td>\n",
              "      <td>16.137143</td>\n",
              "      <td>3.542857</td>\n",
              "      <td>-0.861044</td>\n",
              "      <td>1.0</td>\n",
              "      <td>0.056800</td>\n",
              "      <td>0.039833</td>\n",
              "      <td>0.062267</td>\n",
              "      <td>0.075914</td>\n",
              "      <td>18.014367</td>\n",
              "    </tr>\n",
              "  </tbody>\n",
              "</table>\n",
              "</div>"
            ],
            "text/plain": [
              "   x0_sj  reanalysis_avg_temp_k  ...   ndvi_sw  previous_cases\n",
              "1    1.0             298.550000  ...  0.091200        9.437000\n",
              "2    1.0             298.557143  ...  0.072314        9.437000\n",
              "3    1.0             299.357143  ...  0.091529       11.653600\n",
              "4    1.0             299.728571  ...  0.125686       19.340167\n",
              "5    1.0             299.671429  ...  0.075914       18.014367\n",
              "\n",
              "[5 rows x 17 columns]"
            ]
          },
          "metadata": {
            "tags": []
          },
          "execution_count": 68
        }
      ]
    },
    {
      "cell_type": "markdown",
      "metadata": {
        "id": "ozJDzYrYOxee"
      },
      "source": [
        "### Perform the Fit and Compare Lookback vs Original Predictions"
      ]
    },
    {
      "cell_type": "code",
      "metadata": {
        "id": "e0IT_KhRABFQ"
      },
      "source": [
        "lookback_competition_pred, lookback_vs_nolookback_mae = predictions_and_mae(lookback_estimator, lookback_test_X, y_competition_pred)"
      ],
      "execution_count": null,
      "outputs": []
    },
    {
      "cell_type": "code",
      "metadata": {
        "id": "B_pYvJDnEsH9",
        "colab": {
          "base_uri": "https://localhost:8080/"
        },
        "outputId": "da30afea-a7ef-4a18-eca7-82d1a483c829"
      },
      "source": [
        "plt.figure(figsize=(30,3))\n",
        "plt.plot(lookback_competition_pred,'r')\n",
        "plt.plot(y_competition_pred,'b')\n",
        "plt.show()"
      ],
      "execution_count": null,
      "outputs": [
        {
          "output_type": "display_data",
          "data": {
            "image/png": "[encoded data removed]",
            "text/plain": [
              "<Figure size 2160x216 with 1 Axes>"
            ]
          },
          "metadata": {
            "tags": [],
            "needs_background": "light"
          }
        }
      ]
    },
    {
      "cell_type": "code",
      "metadata": {
        "id": "gtQqeJ-1GF4F",
        "colab": {
          "base_uri": "https://localhost:8080/"
        },
        "outputId": "28972971-ae8e-4314-93c7-e2afb8e0cbaf"
      },
      "source": [
        "print(\"MAE between the two predictions is\", lookback_vs_nolookback_mae)"
      ],
      "execution_count": null,
      "outputs": [
        {
          "output_type": "stream",
          "text": [
            "MAE between the two predictions is 10.623932125686814\n"
          ],
          "name": "stdout"
        }
      ]
    },
    {
      "cell_type": "code",
      "metadata": {
        "id": "WUZZSW7KFU19"
      },
      "source": [
        "lookback_submission_df = competition_y.copy()\n",
        "lookback_submission_df['total_cases'] = lookback_competition_pred\n",
        "lookback_submission_df['total_cases'] = lookback_submission_df['total_cases'].astype(int)"
      ],
      "execution_count": null,
      "outputs": []
    },
    {
      "cell_type": "code",
      "metadata": {
        "id": "TybICO2GFelW"
      },
      "source": [
        "case_comparison_df = submission_df.copy()\n",
        "case_comparison_df['total_cases_lookback'] = lookback_submission_df['total_cases']"
      ],
      "execution_count": null,
      "outputs": []
    },
    {
      "cell_type": "code",
      "metadata": {
        "id": "zlLAVftDF7Y9",
        "colab": {
          "base_uri": "https://localhost:8080/"
        },
        "outputId": "7922518d-48d0-4f24-b729-1059acc7fef1"
      },
      "source": [
        "case_comparison_df"
      ],
      "execution_count": null,
      "outputs": [
        {
          "output_type": "execute_result",
          "data": {
            "text/html": [
              "<div>\n",
              "<style scoped>\n",
              "    .dataframe tbody tr th:only-of-type {\n",
              "        vertical-align: middle;\n",
              "    }\n",
              "\n",
              "    .dataframe tbody tr th {\n",
              "        vertical-align: top;\n",
              "    }\n",
              "\n",
              "    .dataframe thead th {\n",
              "        text-align: right;\n",
              "    }\n",
              "</style>\n",
              "<table border=\"1\" class=\"dataframe\">\n",
              "  <thead>\n",
              "    <tr style=\"text-align: right;\">\n",
              "      <th></th>\n",
              "      <th>city</th>\n",
              "      <th>year</th>\n",
              "      <th>weekofyear</th>\n",
              "      <th>total_cases</th>\n",
              "      <th>total_cases_lookback</th>\n",
              "    </tr>\n",
              "  </thead>\n",
              "  <tbody>\n",
              "    <tr>\n",
              "      <th>1</th>\n",
              "      <td>sj</td>\n",
              "      <td>2008</td>\n",
              "      <td>18</td>\n",
              "      <td>9</td>\n",
              "      <td>10</td>\n",
              "    </tr>\n",
              "    <tr>\n",
              "      <th>2</th>\n",
              "      <td>sj</td>\n",
              "      <td>2008</td>\n",
              "      <td>19</td>\n",
              "      <td>11</td>\n",
              "      <td>4</td>\n",
              "    </tr>\n",
              "    <tr>\n",
              "      <th>3</th>\n",
              "      <td>sj</td>\n",
              "      <td>2008</td>\n",
              "      <td>20</td>\n",
              "      <td>19</td>\n",
              "      <td>11</td>\n",
              "    </tr>\n",
              "    <tr>\n",
              "      <th>4</th>\n",
              "      <td>sj</td>\n",
              "      <td>2008</td>\n",
              "      <td>21</td>\n",
              "      <td>18</td>\n",
              "      <td>18</td>\n",
              "    </tr>\n",
              "    <tr>\n",
              "      <th>5</th>\n",
              "      <td>sj</td>\n",
              "      <td>2008</td>\n",
              "      <td>22</td>\n",
              "      <td>18</td>\n",
              "      <td>13</td>\n",
              "    </tr>\n",
              "    <tr>\n",
              "      <th>...</th>\n",
              "      <td>...</td>\n",
              "      <td>...</td>\n",
              "      <td>...</td>\n",
              "      <td>...</td>\n",
              "      <td>...</td>\n",
              "    </tr>\n",
              "    <tr>\n",
              "      <th>412</th>\n",
              "      <td>iq</td>\n",
              "      <td>2013</td>\n",
              "      <td>22</td>\n",
              "      <td>3</td>\n",
              "      <td>4</td>\n",
              "    </tr>\n",
              "    <tr>\n",
              "      <th>413</th>\n",
              "      <td>iq</td>\n",
              "      <td>2013</td>\n",
              "      <td>23</td>\n",
              "      <td>1</td>\n",
              "      <td>0</td>\n",
              "    </tr>\n",
              "    <tr>\n",
              "      <th>414</th>\n",
              "      <td>iq</td>\n",
              "      <td>2013</td>\n",
              "      <td>24</td>\n",
              "      <td>1</td>\n",
              "      <td>1</td>\n",
              "    </tr>\n",
              "    <tr>\n",
              "      <th>415</th>\n",
              "      <td>iq</td>\n",
              "      <td>2013</td>\n",
              "      <td>25</td>\n",
              "      <td>1</td>\n",
              "      <td>1</td>\n",
              "    </tr>\n",
              "    <tr>\n",
              "      <th>416</th>\n",
              "      <td>iq</td>\n",
              "      <td>2013</td>\n",
              "      <td>26</td>\n",
              "      <td>1</td>\n",
              "      <td>2</td>\n",
              "    </tr>\n",
              "  </tbody>\n",
              "</table>\n",
              "<p>416 rows × 5 columns</p>\n",
              "</div>"
            ],
            "text/plain": [
              "0   city  year  weekofyear  total_cases  total_cases_lookback\n",
              "1     sj  2008          18            9                    10\n",
              "2     sj  2008          19           11                     4\n",
              "3     sj  2008          20           19                    11\n",
              "4     sj  2008          21           18                    18\n",
              "5     sj  2008          22           18                    13\n",
              "..   ...   ...         ...          ...                   ...\n",
              "412   iq  2013          22            3                     4\n",
              "413   iq  2013          23            1                     0\n",
              "414   iq  2013          24            1                     1\n",
              "415   iq  2013          25            1                     1\n",
              "416   iq  2013          26            1                     2\n",
              "\n",
              "[416 rows x 5 columns]"
            ]
          },
          "metadata": {
            "tags": []
          },
          "execution_count": 74
        }
      ]
    },
    {
      "cell_type": "code",
      "metadata": {
        "id": "Wjtth-KkFlSo"
      },
      "source": [
        "# write_df_to_gsheet(COMPETITION_RESULTS_OUTPUT_NAME,submission_df)\n",
        "# write_df_to_gsheet(COMPETITION_RESULTS_OUTPUT_NAME+\"_with_lookback\",lookback_submission_df)"
      ],
      "execution_count": null,
      "outputs": []
    }
  ]
}